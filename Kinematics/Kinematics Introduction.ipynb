{
 "cells": [
  {
   "cell_type": "markdown",
   "metadata": {},
   "source": [
    "# CoroBot Kinematics Solver for 6 DOF Manipulator"
   ]
  },
  {
   "cell_type": "markdown",
   "metadata": {},
   "source": [
    "    This tutorial shows you how to simulate and create a controller for a 6 DOF robotic manipulator. The dimensions and model used in this iPython Notebook is based off of the standard manipulators used on the CoroBot models"
   ]
  },
  {
   "cell_type": "markdown",
   "metadata": {},
   "source": [
    "# Problem Statement"
   ]
  },
  {
   "cell_type": "markdown",
   "metadata": {},
   "source": [
    "The problem with kinematics and inverse kinematics is that as a robotic manipulator moves, describing each angle of the joints as well as the the positions of each joint. "
   ]
  },
  {
   "cell_type": "code",
   "execution_count": 1,
   "metadata": {
    "collapsed": true
   },
   "outputs": [],
   "source": [
    "from IPython.display import Image"
   ]
  },
  {
   "cell_type": "code",
   "execution_count": 2,
   "metadata": {
    "collapsed": false
   },
   "outputs": [
    {
     "data": {
      "image/png": "insert path to image here",
      "text/plain": [
       "<IPython.core.display.Image object>"
      ]
     },
     "execution_count": 2,
     "metadata": {},
     "output_type": "execute_result"
    }
   ],
   "source": [
    "Image('insert path to image here')"
   ]
  },
  {
   "cell_type": "markdown",
   "metadata": {},
   "source": [
    "# Theory of Kinematics"
   ]
  },
  {
   "cell_type": "markdown",
   "metadata": {},
   "source": [
    "Insert stuff here"
   ]
  },
  {
   "cell_type": "code",
   "execution_count": 3,
   "metadata": {
    "collapsed": false
   },
   "outputs": [],
   "source": [
    "from __future__ import print_function, division #This is incase someone tries to run it in Python2\n",
    "from sympy import symbols, simplify #CAS used for discussion of math contents\n",
    "from sympy.physics.mechanics import dynamicsymbols, ReferenceFrame, Point #Used for solving geometric  \n",
    "from sympy.physics.vector import init_vprinting \n",
    "init_vprinting(use_latex='mathjax')"
   ]
  },
  {
   "cell_type": "markdown",
   "metadata": {},
   "source": [
    "## Step One: Define our Reference Frames"
   ]
  },
  {
   "cell_type": "code",
   "execution_count": 4,
   "metadata": {
    "collapsed": true
   },
   "outputs": [],
   "source": [
    "Base_Frame = ReferenceFrame('B_Frame')\n",
    "Joint_One_Frame = ReferenceFrame('J1_Frame')\n",
    "Joint_Two_Frame = ReferenceFrame('J2_Frame')\n",
    "Joint_Three_Frame = ReferenceFrame('J3_Frame')\n",
    "Wrist_Joint_Frame = ReferenceFrame('Wrist_Frame')\n",
    "Gripper_Frame = ReferenceFrame('Gripper_Frame')"
   ]
  },
  {
   "cell_type": "markdown",
   "metadata": {},
   "source": [
    "Now we need to specify how the frames are oriented with respect to each other. To do this we need to define the generalized coordinates $\\theta_1$, $\\theta_2$, $\\theta_3$, $\\theta_4$, $\\theta_5$, $\\theta_6$ "
   ]
  },
  {
   "cell_type": "code",
   "execution_count": null,
   "metadata": {
    "collapsed": true
   },
   "outputs": [],
   "source": [
    "theta1, theta2, theta3, theta4, theta5, theta6 = dynamicsymbols('theta1, theta2, theta3, theta4, theta5, theta6')"
   ]
  },
  {
   "cell_type": "markdown",
   "metadata": {},
   "source": [
    "Next we will define the orientation of each of the links relative to the inertial reference frame; the base frame, as it rotates through some arbitrary angle $\\theta_1$"
   ]
  },
  {
   "cell_type": "code",
   "execution_count": null,
   "metadata": {
    "collapsed": true
   },
   "outputs": [],
   "source": []
  },
  {
   "cell_type": "code",
   "execution_count": null,
   "metadata": {
    "collapsed": true
   },
   "outputs": [],
   "source": []
  }
 ],
 "metadata": {
  "kernelspec": {
   "display_name": "Python 3",
   "language": "python",
   "name": "python3"
  },
  "language_info": {
   "codemirror_mode": {
    "name": "ipython",
    "version": 3
   },
   "file_extension": ".py",
   "mimetype": "text/x-python",
   "name": "python",
   "nbconvert_exporter": "python",
   "pygments_lexer": "ipython3",
   "version": "3.4.3"
  }
 },
 "nbformat": 4,
 "nbformat_minor": 0
}
