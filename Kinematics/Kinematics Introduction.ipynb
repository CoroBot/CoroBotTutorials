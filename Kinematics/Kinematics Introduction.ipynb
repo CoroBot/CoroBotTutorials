{
 "cells": [
  {
   "cell_type": "markdown",
   "metadata": {},
   "source": [
    "# CoroBot Kinematics Solver for 6 DOF Manipulator"
   ]
  },
  {
   "cell_type": "markdown",
   "metadata": {},
   "source": [
    "    This tutorial shows you how to simulate and create a controller for a 6 DOF robotic manipulator. The dimensions and model used in this iPython Notebook is based off of the standard manipulators used on the CoroBot models"
   ]
  },
  {
   "cell_type": "markdown",
   "metadata": {},
   "source": [
    "# Problem Statement"
   ]
  },
  {
   "cell_type": "markdown",
   "metadata": {},
   "source": [
    "The problem with kinematics and inverse kinematics is that as a robotic manipulator moves, describing each angle of the joints as well as the the positions of each joint. "
   ]
  },
  {
   "cell_type": "code",
   "execution_count": 47,
   "metadata": {
    "collapsed": true
   },
   "outputs": [],
   "source": [
    "from IPython.display import Image"
   ]
  },
  {
   "cell_type": "code",
   "execution_count": 48,
   "metadata": {
    "collapsed": false
   },
   "outputs": [
    {
     "data": {
      "image/png": "insert path to image here",
      "text/plain": [
       "<IPython.core.display.Image object>"
      ]
     },
     "execution_count": 48,
     "metadata": {},
     "output_type": "execute_result"
    }
   ],
   "source": [
    "Image('insert path to image here')"
   ]
  },
  {
   "cell_type": "markdown",
   "metadata": {},
   "source": [
    "# Theory of Kinematics"
   ]
  },
  {
   "cell_type": "markdown",
   "metadata": {},
   "source": [
    "Insert stuff here"
   ]
  },
  {
   "cell_type": "code",
   "execution_count": 49,
   "metadata": {
    "collapsed": false
   },
   "outputs": [],
   "source": [
    "from __future__ import print_function, division #This is incase someone tries to run it in Python2\n",
    "from sympy import symbols, simplify #CAS used for discussion of math contents\n",
    "from sympy.physics.mechanics import dynamicsymbols, ReferenceFrame, Point #Used for solving geometric  \n",
    "from sympy.physics.vector import init_vprinting \n",
    "init_vprinting(use_latex='mathjax')"
   ]
  },
  {
   "cell_type": "markdown",
   "metadata": {},
   "source": [
    "## Step One: Define our Reference Frames"
   ]
  },
  {
   "cell_type": "code",
   "execution_count": 50,
   "metadata": {
    "collapsed": true
   },
   "outputs": [],
   "source": [
    "Global_Frame = ReferenceFrame('Glob_Framethe base frame')\n",
    "Base_Frame = ReferenceFrame('B_Frame')\n",
    "Joint_One_Frame = ReferenceFrame('J1_Frame')\n",
    "Joint_Two_Frame = ReferenceFrame('J2_Frame')\n",
    "Joint_Three_Frame = ReferenceFrame('J3_Frame')\n",
    "Joint_Four_Frame = ReferenceFrame('J4_Frame')\n",
    "Wrist_Joint_Frame = ReferenceFrame('Wrist_Frame')\n",
    "Gripper_Frame = ReferenceFrame('Gripper_Frame')"
   ]
  },
  {
   "cell_type": "markdown",
   "metadata": {},
   "source": [
    "Now we need to specify how the frames are oriented with respect to each other. To do this we need to define the generalized coordinates $\\theta_1$, $\\theta_2$, $\\theta_3$, $\\theta_4$, $\\theta_5$, $\\theta_6$ "
   ]
  },
  {
   "cell_type": "code",
   "execution_count": 51,
   "metadata": {
    "collapsed": true
   },
   "outputs": [],
   "source": [
    "thetab, theta1, theta2, theta3, theta4, theta5 = dynamicsymbols('theta_b, theta1, theta2, theta3, theta4, theta5')"
   ]
  },
  {
   "cell_type": "markdown",
   "metadata": {},
   "source": [
    "Next we will define the orientation of each of the links relative to the inertial reference frame; or the global coordinate system, as they rotate through various arbitrary angle $\\theta_n$\n",
    "\n",
    "In the next cell we will set the \"Base_Frame\" position relative to the \"Global_Frame\" with some rotation \"theta1\" that rotates about the Z axis."
   ]
  },
  {
   "cell_type": "code",
   "execution_count": 52,
   "metadata": {
    "collapsed": false
   },
   "outputs": [],
   "source": [
    "Base_Frame.orient(Global_Frame, 'Axis', (thetab,Global_Frame.z ))"
   ]
  },
  {
   "cell_type": "markdown",
   "metadata": {
    "collapsed": true
   },
   "source": [
    "Now we will calculate the transformation matrix; also called the direction cosine matrix (DCM) relative to the base frame. "
   ]
  },
  {
   "cell_type": "code",
   "execution_count": 53,
   "metadata": {
    "collapsed": false
   },
   "outputs": [
    {
     "data": {
      "text/latex": [
       "$$\\left[\\begin{matrix}\\operatorname{cos}\\left(\\theta_{b}\\right) & \\operatorname{sin}\\left(\\theta_{b}\\right) & 0\\\\- \\operatorname{sin}\\left(\\theta_{b}\\right) & \\operatorname{cos}\\left(\\theta_{b}\\right) & 0\\\\0 & 0 & 1\\end{matrix}\\right]$$"
      ],
      "text/plain": [
       "⎡cos(θ_b)   sin(θ_b)  0⎤\n",
       "⎢                      ⎥\n",
       "⎢-sin(θ_b)  cos(θ_b)  0⎥\n",
       "⎢                      ⎥\n",
       "⎣    0         0      1⎦"
      ]
     },
     "execution_count": 53,
     "metadata": {},
     "output_type": "execute_result"
    }
   ],
   "source": [
    "Base_Frame.dcm(Global_Frame)"
   ]
  },
  {
   "cell_type": "code",
   "execution_count": 54,
   "metadata": {
    "collapsed": false
   },
   "outputs": [
    {
     "data": {
      "text/latex": [
       "$$\\left[\\begin{matrix}\\operatorname{cos}\\left(\\theta_{b}\\right) & - \\operatorname{sin}\\left(\\theta_{b}\\right) & 0\\\\\\operatorname{sin}\\left(\\theta_{b}\\right) & \\operatorname{cos}\\left(\\theta_{b}\\right) & 0\\\\0 & 0 & 1\\end{matrix}\\right]$$"
      ],
      "text/plain": [
       "⎡cos(θ_b)  -sin(θ_b)  0⎤\n",
       "⎢                      ⎥\n",
       "⎢sin(θ_b)  cos(θ_b)   0⎥\n",
       "⎢                      ⎥\n",
       "⎣   0          0      1⎦"
      ]
     },
     "execution_count": 54,
     "metadata": {},
     "output_type": "execute_result"
    }
   ],
   "source": [
    "Global_Frame.dcm(Base_Frame)"
   ]
  },
  {
   "cell_type": "markdown",
   "metadata": {},
   "source": [
    "Now we can rotate the arm's base relative to the Global_Frame which is what we will use as the global coordinates"
   ]
  },
  {
   "cell_type": "code",
   "execution_count": 55,
   "metadata": {
    "collapsed": false
   },
   "outputs": [
    {
     "data": {
      "image/png": "path to second joint rotation",
      "text/plain": [
       "<IPython.core.display.Image object>"
      ]
     },
     "execution_count": 55,
     "metadata": {},
     "output_type": "execute_result"
    }
   ],
   "source": [
    "Image('path to second joint rotation')"
   ]
  },
  {
   "cell_type": "markdown",
   "metadata": {},
   "source": [
    "Next we will calculate the rotational matrix of the first joint relative to the revolute base joint."
   ]
  },
  {
   "cell_type": "code",
   "execution_count": 56,
   "metadata": {
    "collapsed": false
   },
   "outputs": [],
   "source": [
    "Joint_One_Frame.orient(Base_Frame,'Axis',(theta1, Base_Frame.x))"
   ]
  },
  {
   "cell_type": "code",
   "execution_count": 57,
   "metadata": {
    "collapsed": false
   },
   "outputs": [
    {
     "data": {
      "text/latex": [
       "$$\\left[\\begin{matrix}1 & 0 & 0\\\\0 & \\operatorname{cos}\\left(\\theta_{1}\\right) & \\operatorname{sin}\\left(\\theta_{1}\\right)\\\\0 & - \\operatorname{sin}\\left(\\theta_{1}\\right) & \\operatorname{cos}\\left(\\theta_{1}\\right)\\end{matrix}\\right]$$"
      ],
      "text/plain": [
       "⎡1     0         0   ⎤\n",
       "⎢                    ⎥\n",
       "⎢0  cos(θ₁)   sin(θ₁)⎥\n",
       "⎢                    ⎥\n",
       "⎣0  -sin(θ₁)  cos(θ₁)⎦"
      ]
     },
     "execution_count": 57,
     "metadata": {},
     "output_type": "execute_result"
    }
   ],
   "source": [
    "Joint_One_Frame.dcm(Base_Frame)"
   ]
  },
  {
   "cell_type": "code",
   "execution_count": 58,
   "metadata": {
    "collapsed": true
   },
   "outputs": [],
   "source": [
    "Joint_Two_Frame.orient(Joint_One_Frame, 'Axis',(theta2, Joint_One_Frame.x))"
   ]
  },
  {
   "cell_type": "code",
   "execution_count": 59,
   "metadata": {
    "collapsed": false
   },
   "outputs": [
    {
     "data": {
      "text/latex": [
       "$$\\left[\\begin{matrix}1 & 0 & 0\\\\0 & - \\operatorname{sin}\\left(\\theta_{1}\\right) \\operatorname{sin}\\left(\\theta_{2}\\right) + \\operatorname{cos}\\left(\\theta_{1}\\right) \\operatorname{cos}\\left(\\theta_{2}\\right) & \\operatorname{sin}\\left(\\theta_{1}\\right) \\operatorname{cos}\\left(\\theta_{2}\\right) + \\operatorname{sin}\\left(\\theta_{2}\\right) \\operatorname{cos}\\left(\\theta_{1}\\right)\\\\0 & - \\operatorname{sin}\\left(\\theta_{1}\\right) \\operatorname{cos}\\left(\\theta_{2}\\right) - \\operatorname{sin}\\left(\\theta_{2}\\right) \\operatorname{cos}\\left(\\theta_{1}\\right) & - \\operatorname{sin}\\left(\\theta_{1}\\right) \\operatorname{sin}\\left(\\theta_{2}\\right) + \\operatorname{cos}\\left(\\theta_{1}\\right) \\operatorname{cos}\\left(\\theta_{2}\\right)\\end{matrix}\\right]$$"
      ],
      "text/plain": [
       "⎡1                  0                                   0                 ⎤\n",
       "⎢                                                                         ⎥\n",
       "⎢0  -sin(θ₁)⋅sin(θ₂) + cos(θ₁)⋅cos(θ₂)  sin(θ₁)⋅cos(θ₂) + sin(θ₂)⋅cos(θ₁) ⎥\n",
       "⎢                                                                         ⎥\n",
       "⎣0  -sin(θ₁)⋅cos(θ₂) - sin(θ₂)⋅cos(θ₁)  -sin(θ₁)⋅sin(θ₂) + cos(θ₁)⋅cos(θ₂)⎦"
      ]
     },
     "execution_count": 59,
     "metadata": {},
     "output_type": "execute_result"
    }
   ],
   "source": [
    "Joint_Two_Frame.dcm(Base_Frame)"
   ]
  },
  {
   "cell_type": "code",
   "execution_count": 60,
   "metadata": {
    "collapsed": true
   },
   "outputs": [],
   "source": [
    "Joint_Three_Frame.orient(Joint_Two_Frame, 'Axis',(theta3, Joint_Two_Frame.x))"
   ]
  },
  {
   "cell_type": "code",
   "execution_count": 61,
   "metadata": {
    "collapsed": false
   },
   "outputs": [
    {
     "data": {
      "text/latex": [
       "$$\\left[\\begin{matrix}\\operatorname{cos}\\left(\\theta_{b}\\right) & \\operatorname{sin}\\left(\\theta_{b}\\right) & 0\\\\- \\left(\\left(- \\operatorname{sin}\\left(\\theta_{2}\\right) \\operatorname{sin}\\left(\\theta_{3}\\right) + \\operatorname{cos}\\left(\\theta_{2}\\right) \\operatorname{cos}\\left(\\theta_{3}\\right)\\right) \\operatorname{cos}\\left(\\theta_{1}\\right) - \\left(\\operatorname{sin}\\left(\\theta_{2}\\right) \\operatorname{cos}\\left(\\theta_{3}\\right) + \\operatorname{sin}\\left(\\theta_{3}\\right) \\operatorname{cos}\\left(\\theta_{2}\\right)\\right) \\operatorname{sin}\\left(\\theta_{1}\\right)\\right) \\operatorname{sin}\\left(\\theta_{b}\\right) & \\left(\\left(- \\operatorname{sin}\\left(\\theta_{2}\\right) \\operatorname{sin}\\left(\\theta_{3}\\right) + \\operatorname{cos}\\left(\\theta_{2}\\right) \\operatorname{cos}\\left(\\theta_{3}\\right)\\right) \\operatorname{cos}\\left(\\theta_{1}\\right) - \\left(\\operatorname{sin}\\left(\\theta_{2}\\right) \\operatorname{cos}\\left(\\theta_{3}\\right) + \\operatorname{sin}\\left(\\theta_{3}\\right) \\operatorname{cos}\\left(\\theta_{2}\\right)\\right) \\operatorname{sin}\\left(\\theta_{1}\\right)\\right) \\operatorname{cos}\\left(\\theta_{b}\\right) & \\left(- \\operatorname{sin}\\left(\\theta_{2}\\right) \\operatorname{sin}\\left(\\theta_{3}\\right) + \\operatorname{cos}\\left(\\theta_{2}\\right) \\operatorname{cos}\\left(\\theta_{3}\\right)\\right) \\operatorname{sin}\\left(\\theta_{1}\\right) + \\left(\\operatorname{sin}\\left(\\theta_{2}\\right) \\operatorname{cos}\\left(\\theta_{3}\\right) + \\operatorname{sin}\\left(\\theta_{3}\\right) \\operatorname{cos}\\left(\\theta_{2}\\right)\\right) \\operatorname{cos}\\left(\\theta_{1}\\right)\\\\- \\left(- \\left(- \\operatorname{sin}\\left(\\theta_{2}\\right) \\operatorname{sin}\\left(\\theta_{3}\\right) + \\operatorname{cos}\\left(\\theta_{2}\\right) \\operatorname{cos}\\left(\\theta_{3}\\right)\\right) \\operatorname{sin}\\left(\\theta_{1}\\right) + \\left(- \\operatorname{sin}\\left(\\theta_{2}\\right) \\operatorname{cos}\\left(\\theta_{3}\\right) - \\operatorname{sin}\\left(\\theta_{3}\\right) \\operatorname{cos}\\left(\\theta_{2}\\right)\\right) \\operatorname{cos}\\left(\\theta_{1}\\right)\\right) \\operatorname{sin}\\left(\\theta_{b}\\right) & \\left(- \\left(- \\operatorname{sin}\\left(\\theta_{2}\\right) \\operatorname{sin}\\left(\\theta_{3}\\right) + \\operatorname{cos}\\left(\\theta_{2}\\right) \\operatorname{cos}\\left(\\theta_{3}\\right)\\right) \\operatorname{sin}\\left(\\theta_{1}\\right) + \\left(- \\operatorname{sin}\\left(\\theta_{2}\\right) \\operatorname{cos}\\left(\\theta_{3}\\right) - \\operatorname{sin}\\left(\\theta_{3}\\right) \\operatorname{cos}\\left(\\theta_{2}\\right)\\right) \\operatorname{cos}\\left(\\theta_{1}\\right)\\right) \\operatorname{cos}\\left(\\theta_{b}\\right) & \\left(- \\operatorname{sin}\\left(\\theta_{2}\\right) \\operatorname{sin}\\left(\\theta_{3}\\right) + \\operatorname{cos}\\left(\\theta_{2}\\right) \\operatorname{cos}\\left(\\theta_{3}\\right)\\right) \\operatorname{cos}\\left(\\theta_{1}\\right) + \\left(- \\operatorname{sin}\\left(\\theta_{2}\\right) \\operatorname{cos}\\left(\\theta_{3}\\right) - \\operatorname{sin}\\left(\\theta_{3}\\right) \\operatorname{cos}\\left(\\theta_{2}\\right)\\right) \\operatorname{sin}\\left(\\theta_{1}\\right)\\end{matrix}\\right]$$"
      ],
      "text/plain": [
       "⎡                                                cos(θ_b)                     \n",
       "⎢                                                                             \n",
       "⎢ -((-sin(θ₂)⋅sin(θ₃) + cos(θ₂)⋅cos(θ₃))⋅cos(θ₁) - (sin(θ₂)⋅cos(θ₃) + sin(θ₃)⋅\n",
       "⎢                                                                             \n",
       "⎣-(-(-sin(θ₂)⋅sin(θ₃) + cos(θ₂)⋅cos(θ₃))⋅sin(θ₁) + (-sin(θ₂)⋅cos(θ₃) - sin(θ₃)\n",
       "\n",
       "                                                                            si\n",
       "                                                                              \n",
       "cos(θ₂))⋅sin(θ₁))⋅sin(θ_b)    ((-sin(θ₂)⋅sin(θ₃) + cos(θ₂)⋅cos(θ₃))⋅cos(θ₁) - \n",
       "                                                                              \n",
       "⋅cos(θ₂))⋅cos(θ₁))⋅sin(θ_b)  (-(-sin(θ₂)⋅sin(θ₃) + cos(θ₂)⋅cos(θ₃))⋅sin(θ₁) + \n",
       "\n",
       "n(θ_b)                                                                        \n",
       "                                                                              \n",
       "(sin(θ₂)⋅cos(θ₃) + sin(θ₃)⋅cos(θ₂))⋅sin(θ₁))⋅cos(θ_b)   (-sin(θ₂)⋅sin(θ₃) + co\n",
       "                                                                              \n",
       "(-sin(θ₂)⋅cos(θ₃) - sin(θ₃)⋅cos(θ₂))⋅cos(θ₁))⋅cos(θ_b)  (-sin(θ₂)⋅sin(θ₃) + co\n",
       "\n",
       "                       0                                             ⎤\n",
       "                                                                     ⎥\n",
       "s(θ₂)⋅cos(θ₃))⋅sin(θ₁) + (sin(θ₂)⋅cos(θ₃) + sin(θ₃)⋅cos(θ₂))⋅cos(θ₁) ⎥\n",
       "                                                                     ⎥\n",
       "s(θ₂)⋅cos(θ₃))⋅cos(θ₁) + (-sin(θ₂)⋅cos(θ₃) - sin(θ₃)⋅cos(θ₂))⋅sin(θ₁)⎦"
      ]
     },
     "execution_count": 61,
     "metadata": {},
     "output_type": "execute_result"
    }
   ],
   "source": [
    "Joint_Three_Frame.dcm(Global_Frame)"
   ]
  },
  {
   "cell_type": "code",
   "execution_count": 62,
   "metadata": {
    "collapsed": true
   },
   "outputs": [],
   "source": [
    "Joint_Four_Frame.orient(Joint_Three_Frame, 'Axis',(theta4, Joint_Three_Frame.x))"
   ]
  },
  {
   "cell_type": "code",
   "execution_count": 63,
   "metadata": {
    "collapsed": false
   },
   "outputs": [
    {
     "data": {
      "text/latex": [
       "$$\\left[\\begin{matrix}\\operatorname{cos}\\left(\\theta_{b}\\right) & \\operatorname{sin}\\left(\\theta_{b}\\right) & 0\\\\- \\left(- \\left(\\left(- \\operatorname{sin}\\left(\\theta_{3}\\right) \\operatorname{sin}\\left(\\theta_{4}\\right) + \\operatorname{cos}\\left(\\theta_{3}\\right) \\operatorname{cos}\\left(\\theta_{4}\\right)\\right) \\operatorname{sin}\\left(\\theta_{2}\\right) + \\left(\\operatorname{sin}\\left(\\theta_{3}\\right) \\operatorname{cos}\\left(\\theta_{4}\\right) + \\operatorname{sin}\\left(\\theta_{4}\\right) \\operatorname{cos}\\left(\\theta_{3}\\right)\\right) \\operatorname{cos}\\left(\\theta_{2}\\right)\\right) \\operatorname{sin}\\left(\\theta_{1}\\right) + \\left(\\left(- \\operatorname{sin}\\left(\\theta_{3}\\right) \\operatorname{sin}\\left(\\theta_{4}\\right) + \\operatorname{cos}\\left(\\theta_{3}\\right) \\operatorname{cos}\\left(\\theta_{4}\\right)\\right) \\operatorname{cos}\\left(\\theta_{2}\\right) - \\left(\\operatorname{sin}\\left(\\theta_{3}\\right) \\operatorname{cos}\\left(\\theta_{4}\\right) + \\operatorname{sin}\\left(\\theta_{4}\\right) \\operatorname{cos}\\left(\\theta_{3}\\right)\\right) \\operatorname{sin}\\left(\\theta_{2}\\right)\\right) \\operatorname{cos}\\left(\\theta_{1}\\right)\\right) \\operatorname{sin}\\left(\\theta_{b}\\right) & \\left(- \\left(\\left(- \\operatorname{sin}\\left(\\theta_{3}\\right) \\operatorname{sin}\\left(\\theta_{4}\\right) + \\operatorname{cos}\\left(\\theta_{3}\\right) \\operatorname{cos}\\left(\\theta_{4}\\right)\\right) \\operatorname{sin}\\left(\\theta_{2}\\right) + \\left(\\operatorname{sin}\\left(\\theta_{3}\\right) \\operatorname{cos}\\left(\\theta_{4}\\right) + \\operatorname{sin}\\left(\\theta_{4}\\right) \\operatorname{cos}\\left(\\theta_{3}\\right)\\right) \\operatorname{cos}\\left(\\theta_{2}\\right)\\right) \\operatorname{sin}\\left(\\theta_{1}\\right) + \\left(\\left(- \\operatorname{sin}\\left(\\theta_{3}\\right) \\operatorname{sin}\\left(\\theta_{4}\\right) + \\operatorname{cos}\\left(\\theta_{3}\\right) \\operatorname{cos}\\left(\\theta_{4}\\right)\\right) \\operatorname{cos}\\left(\\theta_{2}\\right) - \\left(\\operatorname{sin}\\left(\\theta_{3}\\right) \\operatorname{cos}\\left(\\theta_{4}\\right) + \\operatorname{sin}\\left(\\theta_{4}\\right) \\operatorname{cos}\\left(\\theta_{3}\\right)\\right) \\operatorname{sin}\\left(\\theta_{2}\\right)\\right) \\operatorname{cos}\\left(\\theta_{1}\\right)\\right) \\operatorname{cos}\\left(\\theta_{b}\\right) & \\left(\\left(- \\operatorname{sin}\\left(\\theta_{3}\\right) \\operatorname{sin}\\left(\\theta_{4}\\right) + \\operatorname{cos}\\left(\\theta_{3}\\right) \\operatorname{cos}\\left(\\theta_{4}\\right)\\right) \\operatorname{sin}\\left(\\theta_{2}\\right) + \\left(\\operatorname{sin}\\left(\\theta_{3}\\right) \\operatorname{cos}\\left(\\theta_{4}\\right) + \\operatorname{sin}\\left(\\theta_{4}\\right) \\operatorname{cos}\\left(\\theta_{3}\\right)\\right) \\operatorname{cos}\\left(\\theta_{2}\\right)\\right) \\operatorname{cos}\\left(\\theta_{1}\\right) + \\left(\\left(- \\operatorname{sin}\\left(\\theta_{3}\\right) \\operatorname{sin}\\left(\\theta_{4}\\right) + \\operatorname{cos}\\left(\\theta_{3}\\right) \\operatorname{cos}\\left(\\theta_{4}\\right)\\right) \\operatorname{cos}\\left(\\theta_{2}\\right) - \\left(\\operatorname{sin}\\left(\\theta_{3}\\right) \\operatorname{cos}\\left(\\theta_{4}\\right) + \\operatorname{sin}\\left(\\theta_{4}\\right) \\operatorname{cos}\\left(\\theta_{3}\\right)\\right) \\operatorname{sin}\\left(\\theta_{2}\\right)\\right) \\operatorname{sin}\\left(\\theta_{1}\\right)\\\\- \\left(\\left(- \\left(- \\operatorname{sin}\\left(\\theta_{3}\\right) \\operatorname{sin}\\left(\\theta_{4}\\right) + \\operatorname{cos}\\left(\\theta_{3}\\right) \\operatorname{cos}\\left(\\theta_{4}\\right)\\right) \\operatorname{sin}\\left(\\theta_{2}\\right) + \\left(- \\operatorname{sin}\\left(\\theta_{3}\\right) \\operatorname{cos}\\left(\\theta_{4}\\right) - \\operatorname{sin}\\left(\\theta_{4}\\right) \\operatorname{cos}\\left(\\theta_{3}\\right)\\right) \\operatorname{cos}\\left(\\theta_{2}\\right)\\right) \\operatorname{cos}\\left(\\theta_{1}\\right) - \\left(\\left(- \\operatorname{sin}\\left(\\theta_{3}\\right) \\operatorname{sin}\\left(\\theta_{4}\\right) + \\operatorname{cos}\\left(\\theta_{3}\\right) \\operatorname{cos}\\left(\\theta_{4}\\right)\\right) \\operatorname{cos}\\left(\\theta_{2}\\right) + \\left(- \\operatorname{sin}\\left(\\theta_{3}\\right) \\operatorname{cos}\\left(\\theta_{4}\\right) - \\operatorname{sin}\\left(\\theta_{4}\\right) \\operatorname{cos}\\left(\\theta_{3}\\right)\\right) \\operatorname{sin}\\left(\\theta_{2}\\right)\\right) \\operatorname{sin}\\left(\\theta_{1}\\right)\\right) \\operatorname{sin}\\left(\\theta_{b}\\right) & \\left(\\left(- \\left(- \\operatorname{sin}\\left(\\theta_{3}\\right) \\operatorname{sin}\\left(\\theta_{4}\\right) + \\operatorname{cos}\\left(\\theta_{3}\\right) \\operatorname{cos}\\left(\\theta_{4}\\right)\\right) \\operatorname{sin}\\left(\\theta_{2}\\right) + \\left(- \\operatorname{sin}\\left(\\theta_{3}\\right) \\operatorname{cos}\\left(\\theta_{4}\\right) - \\operatorname{sin}\\left(\\theta_{4}\\right) \\operatorname{cos}\\left(\\theta_{3}\\right)\\right) \\operatorname{cos}\\left(\\theta_{2}\\right)\\right) \\operatorname{cos}\\left(\\theta_{1}\\right) - \\left(\\left(- \\operatorname{sin}\\left(\\theta_{3}\\right) \\operatorname{sin}\\left(\\theta_{4}\\right) + \\operatorname{cos}\\left(\\theta_{3}\\right) \\operatorname{cos}\\left(\\theta_{4}\\right)\\right) \\operatorname{cos}\\left(\\theta_{2}\\right) + \\left(- \\operatorname{sin}\\left(\\theta_{3}\\right) \\operatorname{cos}\\left(\\theta_{4}\\right) - \\operatorname{sin}\\left(\\theta_{4}\\right) \\operatorname{cos}\\left(\\theta_{3}\\right)\\right) \\operatorname{sin}\\left(\\theta_{2}\\right)\\right) \\operatorname{sin}\\left(\\theta_{1}\\right)\\right) \\operatorname{cos}\\left(\\theta_{b}\\right) & \\left(- \\left(- \\operatorname{sin}\\left(\\theta_{3}\\right) \\operatorname{sin}\\left(\\theta_{4}\\right) + \\operatorname{cos}\\left(\\theta_{3}\\right) \\operatorname{cos}\\left(\\theta_{4}\\right)\\right) \\operatorname{sin}\\left(\\theta_{2}\\right) + \\left(- \\operatorname{sin}\\left(\\theta_{3}\\right) \\operatorname{cos}\\left(\\theta_{4}\\right) - \\operatorname{sin}\\left(\\theta_{4}\\right) \\operatorname{cos}\\left(\\theta_{3}\\right)\\right) \\operatorname{cos}\\left(\\theta_{2}\\right)\\right) \\operatorname{sin}\\left(\\theta_{1}\\right) + \\left(\\left(- \\operatorname{sin}\\left(\\theta_{3}\\right) \\operatorname{sin}\\left(\\theta_{4}\\right) + \\operatorname{cos}\\left(\\theta_{3}\\right) \\operatorname{cos}\\left(\\theta_{4}\\right)\\right) \\operatorname{cos}\\left(\\theta_{2}\\right) + \\left(- \\operatorname{sin}\\left(\\theta_{3}\\right) \\operatorname{cos}\\left(\\theta_{4}\\right) - \\operatorname{sin}\\left(\\theta_{4}\\right) \\operatorname{cos}\\left(\\theta_{3}\\right)\\right) \\operatorname{sin}\\left(\\theta_{2}\\right)\\right) \\operatorname{cos}\\left(\\theta_{1}\\right)\\end{matrix}\\right]$$"
      ],
      "text/plain": [
       "⎡                                                                             \n",
       "⎢                                                                             \n",
       "⎢ -(-((-sin(θ₃)⋅sin(θ₄) + cos(θ₃)⋅cos(θ₄))⋅sin(θ₂) + (sin(θ₃)⋅cos(θ₄) + sin(θ₄\n",
       "⎢                                                                             \n",
       "⎣-((-(-sin(θ₃)⋅sin(θ₄) + cos(θ₃)⋅cos(θ₄))⋅sin(θ₂) + (-sin(θ₃)⋅cos(θ₄) - sin(θ₄\n",
       "\n",
       "                            cos(θ_b)                                          \n",
       "                                                                              \n",
       ")⋅cos(θ₃))⋅cos(θ₂))⋅sin(θ₁) + ((-sin(θ₃)⋅sin(θ₄) + cos(θ₃)⋅cos(θ₄))⋅cos(θ₂) - \n",
       "                                                                              \n",
       ")⋅cos(θ₃))⋅cos(θ₂))⋅cos(θ₁) - ((-sin(θ₃)⋅sin(θ₄) + cos(θ₃)⋅cos(θ₄))⋅cos(θ₂) + \n",
       "\n",
       "                                                                              \n",
       "                                                                              \n",
       "(sin(θ₃)⋅cos(θ₄) + sin(θ₄)⋅cos(θ₃))⋅sin(θ₂))⋅cos(θ₁))⋅sin(θ_b)    (-((-sin(θ₃)\n",
       "                                                                              \n",
       "(-sin(θ₃)⋅cos(θ₄) - sin(θ₄)⋅cos(θ₃))⋅sin(θ₂))⋅sin(θ₁))⋅sin(θ_b)  ((-(-sin(θ₃)⋅\n",
       "\n",
       "                                                                              \n",
       "                                                                              \n",
       "⋅sin(θ₄) + cos(θ₃)⋅cos(θ₄))⋅sin(θ₂) + (sin(θ₃)⋅cos(θ₄) + sin(θ₄)⋅cos(θ₃))⋅cos(\n",
       "                                                                              \n",
       "sin(θ₄) + cos(θ₃)⋅cos(θ₄))⋅sin(θ₂) + (-sin(θ₃)⋅cos(θ₄) - sin(θ₄)⋅cos(θ₃))⋅cos(\n",
       "\n",
       "             sin(θ_b)                                                         \n",
       "                                                                              \n",
       "θ₂))⋅sin(θ₁) + ((-sin(θ₃)⋅sin(θ₄) + cos(θ₃)⋅cos(θ₄))⋅cos(θ₂) - (sin(θ₃)⋅cos(θ₄\n",
       "                                                                              \n",
       "θ₂))⋅cos(θ₁) - ((-sin(θ₃)⋅sin(θ₄) + cos(θ₃)⋅cos(θ₄))⋅cos(θ₂) + (-sin(θ₃)⋅cos(θ\n",
       "\n",
       "                                                                              \n",
       "                                                                              \n",
       ") + sin(θ₄)⋅cos(θ₃))⋅sin(θ₂))⋅cos(θ₁))⋅cos(θ_b)    ((-sin(θ₃)⋅sin(θ₄) + cos(θ₃\n",
       "                                                                              \n",
       "₄) - sin(θ₄)⋅cos(θ₃))⋅sin(θ₂))⋅sin(θ₁))⋅cos(θ_b)  (-(-sin(θ₃)⋅sin(θ₄) + cos(θ₃\n",
       "\n",
       "                                                                          0   \n",
       "                                                                              \n",
       ")⋅cos(θ₄))⋅sin(θ₂) + (sin(θ₃)⋅cos(θ₄) + sin(θ₄)⋅cos(θ₃))⋅cos(θ₂))⋅cos(θ₁) + ((\n",
       "                                                                              \n",
       ")⋅cos(θ₄))⋅sin(θ₂) + (-sin(θ₃)⋅cos(θ₄) - sin(θ₄)⋅cos(θ₃))⋅cos(θ₂))⋅sin(θ₁) + (\n",
       "\n",
       "                                                                              \n",
       "                                                                              \n",
       "-sin(θ₃)⋅sin(θ₄) + cos(θ₃)⋅cos(θ₄))⋅cos(θ₂) - (sin(θ₃)⋅cos(θ₄) + sin(θ₄)⋅cos(θ\n",
       "                                                                              \n",
       "(-sin(θ₃)⋅sin(θ₄) + cos(θ₃)⋅cos(θ₄))⋅cos(θ₂) + (-sin(θ₃)⋅cos(θ₄) - sin(θ₄)⋅cos\n",
       "\n",
       "                      ⎤\n",
       "                      ⎥\n",
       "₃))⋅sin(θ₂))⋅sin(θ₁)  ⎥\n",
       "                      ⎥\n",
       "(θ₃))⋅sin(θ₂))⋅cos(θ₁)⎦"
      ]
     },
     "execution_count": 63,
     "metadata": {},
     "output_type": "execute_result"
    }
   ],
   "source": [
    "Joint_Four_Frame.dcm(Global_Frame)"
   ]
  },
  {
   "cell_type": "code",
   "execution_count": 65,
   "metadata": {
    "collapsed": false
   },
   "outputs": [],
   "source": [
    "Wrist_Joint_Frame.orient(Joint_Four_Frame, 'Axis', (theta5, Joint_Four_Frame.x))"
   ]
  },
  {
   "cell_type": "code",
   "execution_count": 66,
   "metadata": {
    "collapsed": false
   },
   "outputs": [
    {
     "data": {
      "text/latex": [
       "$$\\left[\\begin{matrix}\\operatorname{cos}\\left(\\theta_{b}\\right) & \\operatorname{sin}\\left(\\theta_{b}\\right) & 0\\\\- \\left(\\left(- \\left(\\left(- \\operatorname{sin}\\left(\\theta_{4}\\right) \\operatorname{sin}\\left(\\theta_{5}\\right) + \\operatorname{cos}\\left(\\theta_{4}\\right) \\operatorname{cos}\\left(\\theta_{5}\\right)\\right) \\operatorname{sin}\\left(\\theta_{3}\\right) + \\left(\\operatorname{sin}\\left(\\theta_{4}\\right) \\operatorname{cos}\\left(\\theta_{5}\\right) + \\operatorname{sin}\\left(\\theta_{5}\\right) \\operatorname{cos}\\left(\\theta_{4}\\right)\\right) \\operatorname{cos}\\left(\\theta_{3}\\right)\\right) \\operatorname{sin}\\left(\\theta_{2}\\right) + \\left(\\left(- \\operatorname{sin}\\left(\\theta_{4}\\right) \\operatorname{sin}\\left(\\theta_{5}\\right) + \\operatorname{cos}\\left(\\theta_{4}\\right) \\operatorname{cos}\\left(\\theta_{5}\\right)\\right) \\operatorname{cos}\\left(\\theta_{3}\\right) - \\left(\\operatorname{sin}\\left(\\theta_{4}\\right) \\operatorname{cos}\\left(\\theta_{5}\\right) + \\operatorname{sin}\\left(\\theta_{5}\\right) \\operatorname{cos}\\left(\\theta_{4}\\right)\\right) \\operatorname{sin}\\left(\\theta_{3}\\right)\\right) \\operatorname{cos}\\left(\\theta_{2}\\right)\\right) \\operatorname{cos}\\left(\\theta_{1}\\right) - \\left(\\left(\\left(- \\operatorname{sin}\\left(\\theta_{4}\\right) \\operatorname{sin}\\left(\\theta_{5}\\right) + \\operatorname{cos}\\left(\\theta_{4}\\right) \\operatorname{cos}\\left(\\theta_{5}\\right)\\right) \\operatorname{sin}\\left(\\theta_{3}\\right) + \\left(\\operatorname{sin}\\left(\\theta_{4}\\right) \\operatorname{cos}\\left(\\theta_{5}\\right) + \\operatorname{sin}\\left(\\theta_{5}\\right) \\operatorname{cos}\\left(\\theta_{4}\\right)\\right) \\operatorname{cos}\\left(\\theta_{3}\\right)\\right) \\operatorname{cos}\\left(\\theta_{2}\\right) + \\left(\\left(- \\operatorname{sin}\\left(\\theta_{4}\\right) \\operatorname{sin}\\left(\\theta_{5}\\right) + \\operatorname{cos}\\left(\\theta_{4}\\right) \\operatorname{cos}\\left(\\theta_{5}\\right)\\right) \\operatorname{cos}\\left(\\theta_{3}\\right) - \\left(\\operatorname{sin}\\left(\\theta_{4}\\right) \\operatorname{cos}\\left(\\theta_{5}\\right) + \\operatorname{sin}\\left(\\theta_{5}\\right) \\operatorname{cos}\\left(\\theta_{4}\\right)\\right) \\operatorname{sin}\\left(\\theta_{3}\\right)\\right) \\operatorname{sin}\\left(\\theta_{2}\\right)\\right) \\operatorname{sin}\\left(\\theta_{1}\\right)\\right) \\operatorname{sin}\\left(\\theta_{b}\\right) & \\left(\\left(- \\left(\\left(- \\operatorname{sin}\\left(\\theta_{4}\\right) \\operatorname{sin}\\left(\\theta_{5}\\right) + \\operatorname{cos}\\left(\\theta_{4}\\right) \\operatorname{cos}\\left(\\theta_{5}\\right)\\right) \\operatorname{sin}\\left(\\theta_{3}\\right) + \\left(\\operatorname{sin}\\left(\\theta_{4}\\right) \\operatorname{cos}\\left(\\theta_{5}\\right) + \\operatorname{sin}\\left(\\theta_{5}\\right) \\operatorname{cos}\\left(\\theta_{4}\\right)\\right) \\operatorname{cos}\\left(\\theta_{3}\\right)\\right) \\operatorname{sin}\\left(\\theta_{2}\\right) + \\left(\\left(- \\operatorname{sin}\\left(\\theta_{4}\\right) \\operatorname{sin}\\left(\\theta_{5}\\right) + \\operatorname{cos}\\left(\\theta_{4}\\right) \\operatorname{cos}\\left(\\theta_{5}\\right)\\right) \\operatorname{cos}\\left(\\theta_{3}\\right) - \\left(\\operatorname{sin}\\left(\\theta_{4}\\right) \\operatorname{cos}\\left(\\theta_{5}\\right) + \\operatorname{sin}\\left(\\theta_{5}\\right) \\operatorname{cos}\\left(\\theta_{4}\\right)\\right) \\operatorname{sin}\\left(\\theta_{3}\\right)\\right) \\operatorname{cos}\\left(\\theta_{2}\\right)\\right) \\operatorname{cos}\\left(\\theta_{1}\\right) - \\left(\\left(\\left(- \\operatorname{sin}\\left(\\theta_{4}\\right) \\operatorname{sin}\\left(\\theta_{5}\\right) + \\operatorname{cos}\\left(\\theta_{4}\\right) \\operatorname{cos}\\left(\\theta_{5}\\right)\\right) \\operatorname{sin}\\left(\\theta_{3}\\right) + \\left(\\operatorname{sin}\\left(\\theta_{4}\\right) \\operatorname{cos}\\left(\\theta_{5}\\right) + \\operatorname{sin}\\left(\\theta_{5}\\right) \\operatorname{cos}\\left(\\theta_{4}\\right)\\right) \\operatorname{cos}\\left(\\theta_{3}\\right)\\right) \\operatorname{cos}\\left(\\theta_{2}\\right) + \\left(\\left(- \\operatorname{sin}\\left(\\theta_{4}\\right) \\operatorname{sin}\\left(\\theta_{5}\\right) + \\operatorname{cos}\\left(\\theta_{4}\\right) \\operatorname{cos}\\left(\\theta_{5}\\right)\\right) \\operatorname{cos}\\left(\\theta_{3}\\right) - \\left(\\operatorname{sin}\\left(\\theta_{4}\\right) \\operatorname{cos}\\left(\\theta_{5}\\right) + \\operatorname{sin}\\left(\\theta_{5}\\right) \\operatorname{cos}\\left(\\theta_{4}\\right)\\right) \\operatorname{sin}\\left(\\theta_{3}\\right)\\right) \\operatorname{sin}\\left(\\theta_{2}\\right)\\right) \\operatorname{sin}\\left(\\theta_{1}\\right)\\right) \\operatorname{cos}\\left(\\theta_{b}\\right) & \\left(- \\left(\\left(- \\operatorname{sin}\\left(\\theta_{4}\\right) \\operatorname{sin}\\left(\\theta_{5}\\right) + \\operatorname{cos}\\left(\\theta_{4}\\right) \\operatorname{cos}\\left(\\theta_{5}\\right)\\right) \\operatorname{sin}\\left(\\theta_{3}\\right) + \\left(\\operatorname{sin}\\left(\\theta_{4}\\right) \\operatorname{cos}\\left(\\theta_{5}\\right) + \\operatorname{sin}\\left(\\theta_{5}\\right) \\operatorname{cos}\\left(\\theta_{4}\\right)\\right) \\operatorname{cos}\\left(\\theta_{3}\\right)\\right) \\operatorname{sin}\\left(\\theta_{2}\\right) + \\left(\\left(- \\operatorname{sin}\\left(\\theta_{4}\\right) \\operatorname{sin}\\left(\\theta_{5}\\right) + \\operatorname{cos}\\left(\\theta_{4}\\right) \\operatorname{cos}\\left(\\theta_{5}\\right)\\right) \\operatorname{cos}\\left(\\theta_{3}\\right) - \\left(\\operatorname{sin}\\left(\\theta_{4}\\right) \\operatorname{cos}\\left(\\theta_{5}\\right) + \\operatorname{sin}\\left(\\theta_{5}\\right) \\operatorname{cos}\\left(\\theta_{4}\\right)\\right) \\operatorname{sin}\\left(\\theta_{3}\\right)\\right) \\operatorname{cos}\\left(\\theta_{2}\\right)\\right) \\operatorname{sin}\\left(\\theta_{1}\\right) + \\left(\\left(\\left(- \\operatorname{sin}\\left(\\theta_{4}\\right) \\operatorname{sin}\\left(\\theta_{5}\\right) + \\operatorname{cos}\\left(\\theta_{4}\\right) \\operatorname{cos}\\left(\\theta_{5}\\right)\\right) \\operatorname{sin}\\left(\\theta_{3}\\right) + \\left(\\operatorname{sin}\\left(\\theta_{4}\\right) \\operatorname{cos}\\left(\\theta_{5}\\right) + \\operatorname{sin}\\left(\\theta_{5}\\right) \\operatorname{cos}\\left(\\theta_{4}\\right)\\right) \\operatorname{cos}\\left(\\theta_{3}\\right)\\right) \\operatorname{cos}\\left(\\theta_{2}\\right) + \\left(\\left(- \\operatorname{sin}\\left(\\theta_{4}\\right) \\operatorname{sin}\\left(\\theta_{5}\\right) + \\operatorname{cos}\\left(\\theta_{4}\\right) \\operatorname{cos}\\left(\\theta_{5}\\right)\\right) \\operatorname{cos}\\left(\\theta_{3}\\right) - \\left(\\operatorname{sin}\\left(\\theta_{4}\\right) \\operatorname{cos}\\left(\\theta_{5}\\right) + \\operatorname{sin}\\left(\\theta_{5}\\right) \\operatorname{cos}\\left(\\theta_{4}\\right)\\right) \\operatorname{sin}\\left(\\theta_{3}\\right)\\right) \\operatorname{sin}\\left(\\theta_{2}\\right)\\right) \\operatorname{cos}\\left(\\theta_{1}\\right)\\\\- \\left(- \\left(\\left(- \\left(- \\operatorname{sin}\\left(\\theta_{4}\\right) \\operatorname{sin}\\left(\\theta_{5}\\right) + \\operatorname{cos}\\left(\\theta_{4}\\right) \\operatorname{cos}\\left(\\theta_{5}\\right)\\right) \\operatorname{sin}\\left(\\theta_{3}\\right) + \\left(- \\operatorname{sin}\\left(\\theta_{4}\\right) \\operatorname{cos}\\left(\\theta_{5}\\right) - \\operatorname{sin}\\left(\\theta_{5}\\right) \\operatorname{cos}\\left(\\theta_{4}\\right)\\right) \\operatorname{cos}\\left(\\theta_{3}\\right)\\right) \\operatorname{sin}\\left(\\theta_{2}\\right) + \\left(\\left(- \\operatorname{sin}\\left(\\theta_{4}\\right) \\operatorname{sin}\\left(\\theta_{5}\\right) + \\operatorname{cos}\\left(\\theta_{4}\\right) \\operatorname{cos}\\left(\\theta_{5}\\right)\\right) \\operatorname{cos}\\left(\\theta_{3}\\right) + \\left(- \\operatorname{sin}\\left(\\theta_{4}\\right) \\operatorname{cos}\\left(\\theta_{5}\\right) - \\operatorname{sin}\\left(\\theta_{5}\\right) \\operatorname{cos}\\left(\\theta_{4}\\right)\\right) \\operatorname{sin}\\left(\\theta_{3}\\right)\\right) \\operatorname{cos}\\left(\\theta_{2}\\right)\\right) \\operatorname{sin}\\left(\\theta_{1}\\right) + \\left(\\left(- \\left(- \\operatorname{sin}\\left(\\theta_{4}\\right) \\operatorname{sin}\\left(\\theta_{5}\\right) + \\operatorname{cos}\\left(\\theta_{4}\\right) \\operatorname{cos}\\left(\\theta_{5}\\right)\\right) \\operatorname{sin}\\left(\\theta_{3}\\right) + \\left(- \\operatorname{sin}\\left(\\theta_{4}\\right) \\operatorname{cos}\\left(\\theta_{5}\\right) - \\operatorname{sin}\\left(\\theta_{5}\\right) \\operatorname{cos}\\left(\\theta_{4}\\right)\\right) \\operatorname{cos}\\left(\\theta_{3}\\right)\\right) \\operatorname{cos}\\left(\\theta_{2}\\right) - \\left(\\left(- \\operatorname{sin}\\left(\\theta_{4}\\right) \\operatorname{sin}\\left(\\theta_{5}\\right) + \\operatorname{cos}\\left(\\theta_{4}\\right) \\operatorname{cos}\\left(\\theta_{5}\\right)\\right) \\operatorname{cos}\\left(\\theta_{3}\\right) + \\left(- \\operatorname{sin}\\left(\\theta_{4}\\right) \\operatorname{cos}\\left(\\theta_{5}\\right) - \\operatorname{sin}\\left(\\theta_{5}\\right) \\operatorname{cos}\\left(\\theta_{4}\\right)\\right) \\operatorname{sin}\\left(\\theta_{3}\\right)\\right) \\operatorname{sin}\\left(\\theta_{2}\\right)\\right) \\operatorname{cos}\\left(\\theta_{1}\\right)\\right) \\operatorname{sin}\\left(\\theta_{b}\\right) & \\left(- \\left(\\left(- \\left(- \\operatorname{sin}\\left(\\theta_{4}\\right) \\operatorname{sin}\\left(\\theta_{5}\\right) + \\operatorname{cos}\\left(\\theta_{4}\\right) \\operatorname{cos}\\left(\\theta_{5}\\right)\\right) \\operatorname{sin}\\left(\\theta_{3}\\right) + \\left(- \\operatorname{sin}\\left(\\theta_{4}\\right) \\operatorname{cos}\\left(\\theta_{5}\\right) - \\operatorname{sin}\\left(\\theta_{5}\\right) \\operatorname{cos}\\left(\\theta_{4}\\right)\\right) \\operatorname{cos}\\left(\\theta_{3}\\right)\\right) \\operatorname{sin}\\left(\\theta_{2}\\right) + \\left(\\left(- \\operatorname{sin}\\left(\\theta_{4}\\right) \\operatorname{sin}\\left(\\theta_{5}\\right) + \\operatorname{cos}\\left(\\theta_{4}\\right) \\operatorname{cos}\\left(\\theta_{5}\\right)\\right) \\operatorname{cos}\\left(\\theta_{3}\\right) + \\left(- \\operatorname{sin}\\left(\\theta_{4}\\right) \\operatorname{cos}\\left(\\theta_{5}\\right) - \\operatorname{sin}\\left(\\theta_{5}\\right) \\operatorname{cos}\\left(\\theta_{4}\\right)\\right) \\operatorname{sin}\\left(\\theta_{3}\\right)\\right) \\operatorname{cos}\\left(\\theta_{2}\\right)\\right) \\operatorname{sin}\\left(\\theta_{1}\\right) + \\left(\\left(- \\left(- \\operatorname{sin}\\left(\\theta_{4}\\right) \\operatorname{sin}\\left(\\theta_{5}\\right) + \\operatorname{cos}\\left(\\theta_{4}\\right) \\operatorname{cos}\\left(\\theta_{5}\\right)\\right) \\operatorname{sin}\\left(\\theta_{3}\\right) + \\left(- \\operatorname{sin}\\left(\\theta_{4}\\right) \\operatorname{cos}\\left(\\theta_{5}\\right) - \\operatorname{sin}\\left(\\theta_{5}\\right) \\operatorname{cos}\\left(\\theta_{4}\\right)\\right) \\operatorname{cos}\\left(\\theta_{3}\\right)\\right) \\operatorname{cos}\\left(\\theta_{2}\\right) - \\left(\\left(- \\operatorname{sin}\\left(\\theta_{4}\\right) \\operatorname{sin}\\left(\\theta_{5}\\right) + \\operatorname{cos}\\left(\\theta_{4}\\right) \\operatorname{cos}\\left(\\theta_{5}\\right)\\right) \\operatorname{cos}\\left(\\theta_{3}\\right) + \\left(- \\operatorname{sin}\\left(\\theta_{4}\\right) \\operatorname{cos}\\left(\\theta_{5}\\right) - \\operatorname{sin}\\left(\\theta_{5}\\right) \\operatorname{cos}\\left(\\theta_{4}\\right)\\right) \\operatorname{sin}\\left(\\theta_{3}\\right)\\right) \\operatorname{sin}\\left(\\theta_{2}\\right)\\right) \\operatorname{cos}\\left(\\theta_{1}\\right)\\right) \\operatorname{cos}\\left(\\theta_{b}\\right) & \\left(\\left(- \\left(- \\operatorname{sin}\\left(\\theta_{4}\\right) \\operatorname{sin}\\left(\\theta_{5}\\right) + \\operatorname{cos}\\left(\\theta_{4}\\right) \\operatorname{cos}\\left(\\theta_{5}\\right)\\right) \\operatorname{sin}\\left(\\theta_{3}\\right) + \\left(- \\operatorname{sin}\\left(\\theta_{4}\\right) \\operatorname{cos}\\left(\\theta_{5}\\right) - \\operatorname{sin}\\left(\\theta_{5}\\right) \\operatorname{cos}\\left(\\theta_{4}\\right)\\right) \\operatorname{cos}\\left(\\theta_{3}\\right)\\right) \\operatorname{sin}\\left(\\theta_{2}\\right) + \\left(\\left(- \\operatorname{sin}\\left(\\theta_{4}\\right) \\operatorname{sin}\\left(\\theta_{5}\\right) + \\operatorname{cos}\\left(\\theta_{4}\\right) \\operatorname{cos}\\left(\\theta_{5}\\right)\\right) \\operatorname{cos}\\left(\\theta_{3}\\right) + \\left(- \\operatorname{sin}\\left(\\theta_{4}\\right) \\operatorname{cos}\\left(\\theta_{5}\\right) - \\operatorname{sin}\\left(\\theta_{5}\\right) \\operatorname{cos}\\left(\\theta_{4}\\right)\\right) \\operatorname{sin}\\left(\\theta_{3}\\right)\\right) \\operatorname{cos}\\left(\\theta_{2}\\right)\\right) \\operatorname{cos}\\left(\\theta_{1}\\right) + \\left(\\left(- \\left(- \\operatorname{sin}\\left(\\theta_{4}\\right) \\operatorname{sin}\\left(\\theta_{5}\\right) + \\operatorname{cos}\\left(\\theta_{4}\\right) \\operatorname{cos}\\left(\\theta_{5}\\right)\\right) \\operatorname{sin}\\left(\\theta_{3}\\right) + \\left(- \\operatorname{sin}\\left(\\theta_{4}\\right) \\operatorname{cos}\\left(\\theta_{5}\\right) - \\operatorname{sin}\\left(\\theta_{5}\\right) \\operatorname{cos}\\left(\\theta_{4}\\right)\\right) \\operatorname{cos}\\left(\\theta_{3}\\right)\\right) \\operatorname{cos}\\left(\\theta_{2}\\right) - \\left(\\left(- \\operatorname{sin}\\left(\\theta_{4}\\right) \\operatorname{sin}\\left(\\theta_{5}\\right) + \\operatorname{cos}\\left(\\theta_{4}\\right) \\operatorname{cos}\\left(\\theta_{5}\\right)\\right) \\operatorname{cos}\\left(\\theta_{3}\\right) + \\left(- \\operatorname{sin}\\left(\\theta_{4}\\right) \\operatorname{cos}\\left(\\theta_{5}\\right) - \\operatorname{sin}\\left(\\theta_{5}\\right) \\operatorname{cos}\\left(\\theta_{4}\\right)\\right) \\operatorname{sin}\\left(\\theta_{3}\\right)\\right) \\operatorname{sin}\\left(\\theta_{2}\\right)\\right) \\operatorname{sin}\\left(\\theta_{1}\\right)\\end{matrix}\\right]$$"
      ],
      "text/plain": [
       "⎡                                                                             \n",
       "⎢                                                                             \n",
       "⎢   -((-((-sin(θ₄)⋅sin(θ₅) + cos(θ₄)⋅cos(θ₅))⋅sin(θ₃) + (sin(θ₄)⋅cos(θ₅) + sin\n",
       "⎢                                                                             \n",
       "⎣-(-((-(-sin(θ₄)⋅sin(θ₅) + cos(θ₄)⋅cos(θ₅))⋅sin(θ₃) + (-sin(θ₄)⋅cos(θ₅) - sin(\n",
       "\n",
       "                                                                              \n",
       "                                                                              \n",
       "(θ₅)⋅cos(θ₄))⋅cos(θ₃))⋅sin(θ₂) + ((-sin(θ₄)⋅sin(θ₅) + cos(θ₄)⋅cos(θ₅))⋅cos(θ₃)\n",
       "                                                                              \n",
       "θ₅)⋅cos(θ₄))⋅cos(θ₃))⋅sin(θ₂) + ((-sin(θ₄)⋅sin(θ₅) + cos(θ₄)⋅cos(θ₅))⋅cos(θ₃) \n",
       "\n",
       "                                                                 cos(θ_b)     \n",
       "                                                                              \n",
       " - (sin(θ₄)⋅cos(θ₅) + sin(θ₅)⋅cos(θ₄))⋅sin(θ₃))⋅cos(θ₂))⋅cos(θ₁) - (((-sin(θ₄)\n",
       "                                                                              \n",
       "+ (-sin(θ₄)⋅cos(θ₅) - sin(θ₅)⋅cos(θ₄))⋅sin(θ₃))⋅cos(θ₂))⋅sin(θ₁) + ((-(-sin(θ₄\n",
       "\n",
       "                                                                              \n",
       "                                                                              \n",
       "⋅sin(θ₅) + cos(θ₄)⋅cos(θ₅))⋅sin(θ₃) + (sin(θ₄)⋅cos(θ₅) + sin(θ₅)⋅cos(θ₄))⋅cos(\n",
       "                                                                              \n",
       ")⋅sin(θ₅) + cos(θ₄)⋅cos(θ₅))⋅sin(θ₃) + (-sin(θ₄)⋅cos(θ₅) - sin(θ₅)⋅cos(θ₄))⋅co\n",
       "\n",
       "                                                                              \n",
       "                                                                              \n",
       "θ₃))⋅cos(θ₂) + ((-sin(θ₄)⋅sin(θ₅) + cos(θ₄)⋅cos(θ₅))⋅cos(θ₃) - (sin(θ₄)⋅cos(θ₅\n",
       "                                                                              \n",
       "s(θ₃))⋅cos(θ₂) - ((-sin(θ₄)⋅sin(θ₅) + cos(θ₄)⋅cos(θ₅))⋅cos(θ₃) + (-sin(θ₄)⋅cos\n",
       "\n",
       "                                                                              \n",
       "                                                                              \n",
       ") + sin(θ₅)⋅cos(θ₄))⋅sin(θ₃))⋅sin(θ₂))⋅sin(θ₁))⋅sin(θ_b)        ((-((-sin(θ₄)⋅\n",
       "                                                                              \n",
       "(θ₅) - sin(θ₅)⋅cos(θ₄))⋅sin(θ₃))⋅sin(θ₂))⋅cos(θ₁))⋅sin(θ_b)  (-((-(-sin(θ₄)⋅si\n",
       "\n",
       "                                                                              \n",
       "                                                                              \n",
       "sin(θ₅) + cos(θ₄)⋅cos(θ₅))⋅sin(θ₃) + (sin(θ₄)⋅cos(θ₅) + sin(θ₅)⋅cos(θ₄))⋅cos(θ\n",
       "                                                                              \n",
       "n(θ₅) + cos(θ₄)⋅cos(θ₅))⋅sin(θ₃) + (-sin(θ₄)⋅cos(θ₅) - sin(θ₅)⋅cos(θ₄))⋅cos(θ₃\n",
       "\n",
       "                                                                              \n",
       "                                                                              \n",
       "₃))⋅sin(θ₂) + ((-sin(θ₄)⋅sin(θ₅) + cos(θ₄)⋅cos(θ₅))⋅cos(θ₃) - (sin(θ₄)⋅cos(θ₅)\n",
       "                                                                              \n",
       "))⋅sin(θ₂) + ((-sin(θ₄)⋅sin(θ₅) + cos(θ₄)⋅cos(θ₅))⋅cos(θ₃) + (-sin(θ₄)⋅cos(θ₅)\n",
       "\n",
       "                                              sin(θ_b)                        \n",
       "                                                                              \n",
       " + sin(θ₅)⋅cos(θ₄))⋅sin(θ₃))⋅cos(θ₂))⋅cos(θ₁) - (((-sin(θ₄)⋅sin(θ₅) + cos(θ₄)⋅\n",
       "                                                                              \n",
       " - sin(θ₅)⋅cos(θ₄))⋅sin(θ₃))⋅cos(θ₂))⋅sin(θ₁) + ((-(-sin(θ₄)⋅sin(θ₅) + cos(θ₄)\n",
       "\n",
       "                                                                              \n",
       "                                                                              \n",
       "cos(θ₅))⋅sin(θ₃) + (sin(θ₄)⋅cos(θ₅) + sin(θ₅)⋅cos(θ₄))⋅cos(θ₃))⋅cos(θ₂) + ((-s\n",
       "                                                                              \n",
       "⋅cos(θ₅))⋅sin(θ₃) + (-sin(θ₄)⋅cos(θ₅) - sin(θ₅)⋅cos(θ₄))⋅cos(θ₃))⋅cos(θ₂) - ((\n",
       "\n",
       "                                                                              \n",
       "                                                                              \n",
       "in(θ₄)⋅sin(θ₅) + cos(θ₄)⋅cos(θ₅))⋅cos(θ₃) - (sin(θ₄)⋅cos(θ₅) + sin(θ₅)⋅cos(θ₄)\n",
       "                                                                              \n",
       "-sin(θ₄)⋅sin(θ₅) + cos(θ₄)⋅cos(θ₅))⋅cos(θ₃) + (-sin(θ₄)⋅cos(θ₅) - sin(θ₅)⋅cos(\n",
       "\n",
       "                                                                              \n",
       "                                                                              \n",
       ")⋅sin(θ₃))⋅sin(θ₂))⋅sin(θ₁))⋅cos(θ_b)       (-((-sin(θ₄)⋅sin(θ₅) + cos(θ₄)⋅cos\n",
       "                                                                              \n",
       "θ₄))⋅sin(θ₃))⋅sin(θ₂))⋅cos(θ₁))⋅cos(θ_b)  ((-(-sin(θ₄)⋅sin(θ₅) + cos(θ₄)⋅cos(θ\n",
       "\n",
       "                                                                              \n",
       "                                                                              \n",
       "(θ₅))⋅sin(θ₃) + (sin(θ₄)⋅cos(θ₅) + sin(θ₅)⋅cos(θ₄))⋅cos(θ₃))⋅sin(θ₂) + ((-sin(\n",
       "                                                                              \n",
       "₅))⋅sin(θ₃) + (-sin(θ₄)⋅cos(θ₅) - sin(θ₅)⋅cos(θ₄))⋅cos(θ₃))⋅sin(θ₂) + ((-sin(θ\n",
       "\n",
       "                                                                              \n",
       "                                                                              \n",
       "θ₄)⋅sin(θ₅) + cos(θ₄)⋅cos(θ₅))⋅cos(θ₃) - (sin(θ₄)⋅cos(θ₅) + sin(θ₅)⋅cos(θ₄))⋅s\n",
       "                                                                              \n",
       "₄)⋅sin(θ₅) + cos(θ₄)⋅cos(θ₅))⋅cos(θ₃) + (-sin(θ₄)⋅cos(θ₅) - sin(θ₅)⋅cos(θ₄))⋅s\n",
       "\n",
       "                         0                                                    \n",
       "                                                                              \n",
       "in(θ₃))⋅cos(θ₂))⋅sin(θ₁) + (((-sin(θ₄)⋅sin(θ₅) + cos(θ₄)⋅cos(θ₅))⋅sin(θ₃) + (s\n",
       "                                                                              \n",
       "in(θ₃))⋅cos(θ₂))⋅cos(θ₁) + ((-(-sin(θ₄)⋅sin(θ₅) + cos(θ₄)⋅cos(θ₅))⋅sin(θ₃) + (\n",
       "\n",
       "                                                                              \n",
       "                                                                              \n",
       "in(θ₄)⋅cos(θ₅) + sin(θ₅)⋅cos(θ₄))⋅cos(θ₃))⋅cos(θ₂) + ((-sin(θ₄)⋅sin(θ₅) + cos(\n",
       "                                                                              \n",
       "-sin(θ₄)⋅cos(θ₅) - sin(θ₅)⋅cos(θ₄))⋅cos(θ₃))⋅cos(θ₂) - ((-sin(θ₄)⋅sin(θ₅) + co\n",
       "\n",
       "                                                                              \n",
       "                                                                              \n",
       "θ₄)⋅cos(θ₅))⋅cos(θ₃) - (sin(θ₄)⋅cos(θ₅) + sin(θ₅)⋅cos(θ₄))⋅sin(θ₃))⋅sin(θ₂))⋅c\n",
       "                                                                              \n",
       "s(θ₄)⋅cos(θ₅))⋅cos(θ₃) + (-sin(θ₄)⋅cos(θ₅) - sin(θ₅)⋅cos(θ₄))⋅sin(θ₃))⋅sin(θ₂)\n",
       "\n",
       "         ⎤\n",
       "         ⎥\n",
       "os(θ₁)   ⎥\n",
       "         ⎥\n",
       ")⋅sin(θ₁)⎦"
      ]
     },
     "execution_count": 66,
     "metadata": {},
     "output_type": "execute_result"
    }
   ],
   "source": [
    "Wrist_Joint_Frame.dcm(Global_Frame)"
   ]
  },
  {
   "cell_type": "code",
   "execution_count": 67,
   "metadata": {
    "collapsed": false
   },
   "outputs": [
    {
     "data": {
      "text/latex": [
       "$$\\left[\\begin{matrix}\\operatorname{cos}\\left(\\theta_{b}\\right) & \\operatorname{sin}\\left(\\theta_{b}\\right) & 0\\\\- \\operatorname{sin}\\left(\\theta_{b}\\right) \\operatorname{cos}\\left(\\theta_{1} + \\theta_{2} + \\theta_{3} + \\theta_{4} + \\theta_{5}\\right) & \\operatorname{cos}\\left(\\theta_{1} + \\theta_{2} + \\theta_{3} + \\theta_{4} + \\theta_{5}\\right) \\operatorname{cos}\\left(\\theta_{b}\\right) & \\operatorname{sin}\\left(\\theta_{1} + \\theta_{2} + \\theta_{3} + \\theta_{4} + \\theta_{5}\\right)\\\\\\operatorname{sin}\\left(\\theta_{1} + \\theta_{2} + \\theta_{3} + \\theta_{4} + \\theta_{5}\\right) \\operatorname{sin}\\left(\\theta_{b}\\right) & - \\operatorname{sin}\\left(\\theta_{1} + \\theta_{2} + \\theta_{3} + \\theta_{4} + \\theta_{5}\\right) \\operatorname{cos}\\left(\\theta_{b}\\right) & \\operatorname{cos}\\left(\\theta_{1} + \\theta_{2} + \\theta_{3} + \\theta_{4} + \\theta_{5}\\right)\\end{matrix}\\right]$$"
      ],
      "text/plain": [
       "⎡              cos(θ_b)                               sin(θ_b)                \n",
       "⎢                                                                             \n",
       "⎢-sin(θ_b)⋅cos(θ₁ + θ₂ + θ₃ + θ₄ + θ₅)  cos(θ₁ + θ₂ + θ₃ + θ₄ + θ₅)⋅cos(θ_b)  \n",
       "⎢                                                                             \n",
       "⎣sin(θ₁ + θ₂ + θ₃ + θ₄ + θ₅)⋅sin(θ_b)   -sin(θ₁ + θ₂ + θ₃ + θ₄ + θ₅)⋅cos(θ_b) \n",
       "\n",
       "              0             ⎤\n",
       "                            ⎥\n",
       " sin(θ₁ + θ₂ + θ₃ + θ₄ + θ₅)⎥\n",
       "                            ⎥\n",
       " cos(θ₁ + θ₂ + θ₃ + θ₄ + θ₅)⎦"
      ]
     },
     "execution_count": 67,
     "metadata": {},
     "output_type": "execute_result"
    }
   ],
   "source": [
    "simplify(Wrist_Joint_Frame.dcm(Global_Frame))"
   ]
  },
  {
   "cell_type": "code",
   "execution_count": 68,
   "metadata": {
    "collapsed": true
   },
   "outputs": [],
   "source": [
    "Gripper_Frame.orient(Wrist_Joint_Frame, 'Axis', (theta5, Wrist_Joint_Frame.y))"
   ]
  },
  {
   "cell_type": "code",
   "execution_count": 71,
   "metadata": {
    "collapsed": false
   },
   "outputs": [
    {
     "data": {
      "text/latex": [
       "$$\\left[\\begin{matrix}- \\operatorname{sin}\\left(\\theta_{1} + \\theta_{2} + \\theta_{3} + \\theta_{4} + \\theta_{5}\\right) \\operatorname{sin}\\left(\\theta_{5}\\right) \\operatorname{sin}\\left(\\theta_{b}\\right) + \\operatorname{cos}\\left(\\theta_{5}\\right) \\operatorname{cos}\\left(\\theta_{b}\\right) & \\operatorname{sin}\\left(\\theta_{1} + \\theta_{2} + \\theta_{3} + \\theta_{4} + \\theta_{5}\\right) \\operatorname{sin}\\left(\\theta_{5}\\right) \\operatorname{cos}\\left(\\theta_{b}\\right) + \\operatorname{sin}\\left(\\theta_{b}\\right) \\operatorname{cos}\\left(\\theta_{5}\\right) & - \\operatorname{sin}\\left(\\theta_{5}\\right) \\operatorname{cos}\\left(\\theta_{1} + \\theta_{2} + \\theta_{3} + \\theta_{4} + \\theta_{5}\\right)\\\\- \\operatorname{sin}\\left(\\theta_{b}\\right) \\operatorname{cos}\\left(\\theta_{1} + \\theta_{2} + \\theta_{3} + \\theta_{4} + \\theta_{5}\\right) & \\operatorname{cos}\\left(\\theta_{1} + \\theta_{2} + \\theta_{3} + \\theta_{4} + \\theta_{5}\\right) \\operatorname{cos}\\left(\\theta_{b}\\right) & \\operatorname{sin}\\left(\\theta_{1} + \\theta_{2} + \\theta_{3} + \\theta_{4} + \\theta_{5}\\right)\\\\\\operatorname{sin}\\left(\\theta_{1} + \\theta_{2} + \\theta_{3} + \\theta_{4} + \\theta_{5}\\right) \\operatorname{sin}\\left(\\theta_{b}\\right) \\operatorname{cos}\\left(\\theta_{5}\\right) + \\operatorname{sin}\\left(\\theta_{5}\\right) \\operatorname{cos}\\left(\\theta_{b}\\right) & - \\operatorname{sin}\\left(\\theta_{1} + \\theta_{2} + \\theta_{3} + \\theta_{4} + \\theta_{5}\\right) \\operatorname{cos}\\left(\\theta_{5}\\right) \\operatorname{cos}\\left(\\theta_{b}\\right) + \\operatorname{sin}\\left(\\theta_{5}\\right) \\operatorname{sin}\\left(\\theta_{b}\\right) & \\operatorname{cos}\\left(\\theta_{1} + \\theta_{2} + \\theta_{3} + \\theta_{4} + \\theta_{5}\\right) \\operatorname{cos}\\left(\\theta_{5}\\right)\\end{matrix}\\right]$$"
      ],
      "text/plain": [
       "⎡-sin(θ₁ + θ₂ + θ₃ + θ₄ + θ₅)⋅sin(θ₅)⋅sin(θ_b) + cos(θ₅)⋅cos(θ_b)  sin(θ₁ + θ₂\n",
       "⎢                                                                             \n",
       "⎢             -sin(θ_b)⋅cos(θ₁ + θ₂ + θ₃ + θ₄ + θ₅)                           \n",
       "⎢                                                                             \n",
       "⎣sin(θ₁ + θ₂ + θ₃ + θ₄ + θ₅)⋅sin(θ_b)⋅cos(θ₅) + sin(θ₅)⋅cos(θ_b)   -sin(θ₁ + θ\n",
       "\n",
       " + θ₃ + θ₄ + θ₅)⋅sin(θ₅)⋅cos(θ_b) + sin(θ_b)⋅cos(θ₅)   -sin(θ₅)⋅cos(θ₁ + θ₂ + \n",
       "                                                                              \n",
       "   cos(θ₁ + θ₂ + θ₃ + θ₄ + θ₅)⋅cos(θ_b)                    sin(θ₁ + θ₂ + θ₃ + \n",
       "                                                                              \n",
       "₂ + θ₃ + θ₄ + θ₅)⋅cos(θ₅)⋅cos(θ_b) + sin(θ₅)⋅sin(θ_b)  cos(θ₁ + θ₂ + θ₃ + θ₄ +\n",
       "\n",
       "θ₃ + θ₄ + θ₅)⎤\n",
       "             ⎥\n",
       "θ₄ + θ₅)     ⎥\n",
       "             ⎥\n",
       " θ₅)⋅cos(θ₅) ⎦"
      ]
     },
     "execution_count": 71,
     "metadata": {},
     "output_type": "execute_result"
    }
   ],
   "source": [
    "simplify(Gripper_Frame.dcm(Global_Frame))"
   ]
  },
  {
   "cell_type": "code",
   "execution_count": null,
   "metadata": {
    "collapsed": true
   },
   "outputs": [],
   "source": []
  }
 ],
 "metadata": {
  "kernelspec": {
   "display_name": "Python 3",
   "language": "python",
   "name": "python3"
  },
  "language_info": {
   "codemirror_mode": {
    "name": "ipython",
    "version": 3
   },
   "file_extension": ".py",
   "mimetype": "text/x-python",
   "name": "python",
   "nbconvert_exporter": "python",
   "pygments_lexer": "ipython3",
   "version": "3.4.3"
  }
 },
 "nbformat": 4,
 "nbformat_minor": 0
}
