{
 "cells": [
  {
   "cell_type": "markdown",
   "metadata": {},
   "source": [
    "# CoroBot Kinematics Solver for 6 DOF Manipulator"
   ]
  },
  {
   "cell_type": "markdown",
   "metadata": {},
   "source": [
    "    This tutorial shows you how to simulate and create a controller for a 6 DOF robotic manipulator. The dimensions and model used in this iPython Notebook is based off of the standard manipulators used on the CoroBot models"
   ]
  },
  {
   "cell_type": "markdown",
   "metadata": {},
   "source": [
    "# Problem Statement"
   ]
  },
  {
   "cell_type": "markdown",
   "metadata": {},
   "source": [
    "The problem with kinematics and inverse kinematics is that as a robotic manipulator moves, describing each angle of the joints as well as the the positions of each joint. "
   ]
  },
  {
   "cell_type": "code",
   "execution_count": 2,
   "metadata": {
    "collapsed": true
   },
   "outputs": [],
   "source": [
    "from IPython.display import Image"
   ]
  },
  {
   "cell_type": "code",
   "execution_count": 3,
   "metadata": {
    "collapsed": false
   },
   "outputs": [
    {
     "data": {
      "image/png": "insert path to image here",
      "text/plain": [
       "<IPython.core.display.Image object>"
      ]
     },
     "execution_count": 3,
     "metadata": {},
     "output_type": "execute_result"
    }
   ],
   "source": [
    "Image('insert path to image here')"
   ]
  },
  {
   "cell_type": "markdown",
   "metadata": {},
   "source": [
    "# Theory of Kinematics"
   ]
  },
  {
   "cell_type": "markdown",
   "metadata": {},
   "source": [
    "Insert stuff here"
   ]
  },
  {
   "cell_type": "code",
   "execution_count": 4,
   "metadata": {
    "collapsed": false
   },
   "outputs": [],
   "source": [
    "from __future__ import print_function, division #This is incase someone tries to run it in Python2\n",
    "from sympy import symbols, simplify #CAS used for discussion of math contents\n",
    "from sympy.physics.mechanics import dynamicsymbols, ReferenceFrame, Point #Used for solving geometric  \n",
    "from sympy.physics.vector import init_vprinting \n",
    "init_vprinting(use_latex='mathjax')"
   ]
  },
  {
   "cell_type": "markdown",
   "metadata": {},
   "source": [
    "## Step One: Define our Reference Frames"
   ]
  },
  {
   "cell_type": "code",
   "execution_count": 5,
   "metadata": {
    "collapsed": true
   },
   "outputs": [],
   "source": [
    "Global_Frame = ReferenceFrame('Glob_Framethe base frame')\n",
    "Base_Frame = ReferenceFrame('B_Frame')\n",
    "Joint_One_Frame = ReferenceFrame('J1_Frame')\n",
    "Joint_Two_Frame = ReferenceFrame('J2_Frame')\n",
    "Joint_Three_Frame = ReferenceFrame('J3_Frame')\n",
    "Joint_Four_Frame = ReferenceFrame('J4_Frame')\n",
    "Wrist_Joint_Frame = ReferenceFrame('Wrist_Frame')\n",
    "Gripper_Frame = ReferenceFrame('Gripper_Frame')"
   ]
  },
  {
   "cell_type": "markdown",
   "metadata": {},
   "source": [
    "##Step Two: Define our Link Lengths"
   ]
  },
  {
   "cell_type": "code",
   "execution_count": null,
   "metadata": {
    "collapsed": true
   },
   "outputs": [],
   "source": []
  },
  {
   "cell_type": "code",
   "execution_count": null,
   "metadata": {
    "collapsed": true
   },
   "outputs": [],
   "source": []
  },
  {
   "cell_type": "raw",
   "metadata": {},
   "source": []
  },
  {
   "cell_type": "markdown",
   "metadata": {},
   "source": [
    "Now we need to specify how the frames are oriented with respect to each other. To do this we need to define the generalized coordinates $\\theta_1$, $\\theta_2$, $\\theta_3$, $\\theta_4$, $\\theta_5$, $\\theta_6$ "
   ]
  },
  {
   "cell_type": "code",
   "execution_count": 6,
   "metadata": {
    "collapsed": true
   },
   "outputs": [],
   "source": [
    "thetab, theta1, theta2, theta3, theta4, theta5 = dynamicsymbols('theta_b, theta1, theta2, theta3, theta4, theta5')"
   ]
  },
  {
   "cell_type": "markdown",
   "metadata": {},
   "source": [
    "Next we will define the orientation of each of the links relative to the inertial reference frame; or the global coordinate system, as they rotate through various arbitrary angle $\\theta_n$\n",
    "\n",
    "In the next cell we will set the \"Base_Frame\" position relative to the \"Global_Frame\" with some rotation \"theta1\" that rotates about the Z axis."
   ]
  },
  {
   "cell_type": "code",
   "execution_count": 7,
   "metadata": {
    "collapsed": false
   },
   "outputs": [],
   "source": [
    "Base_Frame.orient(Global_Frame, 'Axis', (thetab,Global_Frame.z ))"
   ]
  },
  {
   "cell_type": "markdown",
   "metadata": {
    "collapsed": true
   },
   "source": [
    "Now we will calculate the transformation matrix; also called the direction cosine matrix (DCM) relative to the base frame. "
   ]
  },
  {
   "cell_type": "code",
   "execution_count": 8,
   "metadata": {
    "collapsed": false
   },
   "outputs": [
    {
     "data": {
      "text/latex": [
       "$$\\left[\\begin{matrix}\\operatorname{cos}\\left(\\theta_{b}\\right) & \\operatorname{sin}\\left(\\theta_{b}\\right) & 0\\\\- \\operatorname{sin}\\left(\\theta_{b}\\right) & \\operatorname{cos}\\left(\\theta_{b}\\right) & 0\\\\0 & 0 & 1\\end{matrix}\\right]$$"
      ],
      "text/plain": [
       "⎡cos(θ_b)   sin(θ_b)  0⎤\n",
       "⎢                      ⎥\n",
       "⎢-sin(θ_b)  cos(θ_b)  0⎥\n",
       "⎢                      ⎥\n",
       "⎣    0         0      1⎦"
      ]
     },
     "execution_count": 8,
     "metadata": {},
     "output_type": "execute_result"
    }
   ],
   "source": [
    "Base_Frame.dcm(Global_Frame)"
   ]
  },
  {
   "cell_type": "code",
   "execution_count": 9,
   "metadata": {
    "collapsed": false
   },
   "outputs": [
    {
     "data": {
      "text/latex": [
       "$$\\left[\\begin{matrix}\\operatorname{cos}\\left(\\theta_{b}\\right) & - \\operatorname{sin}\\left(\\theta_{b}\\right) & 0\\\\\\operatorname{sin}\\left(\\theta_{b}\\right) & \\operatorname{cos}\\left(\\theta_{b}\\right) & 0\\\\0 & 0 & 1\\end{matrix}\\right]$$"
      ],
      "text/plain": [
       "⎡cos(θ_b)  -sin(θ_b)  0⎤\n",
       "⎢                      ⎥\n",
       "⎢sin(θ_b)  cos(θ_b)   0⎥\n",
       "⎢                      ⎥\n",
       "⎣   0          0      1⎦"
      ]
     },
     "execution_count": 9,
     "metadata": {},
     "output_type": "execute_result"
    }
   ],
   "source": [
    "Global_Frame.dcm(Base_Frame)"
   ]
  },
  {
   "cell_type": "markdown",
   "metadata": {},
   "source": [
    "Now we can rotate the arm's base relative to the Global_Frame which is what we will use as the global coordinates"
   ]
  },
  {
   "cell_type": "code",
   "execution_count": 10,
   "metadata": {
    "collapsed": false
   },
   "outputs": [
    {
     "data": {
      "image/png": "path to second joint rotation",
      "text/plain": [
       "<IPython.core.display.Image object>"
      ]
     },
     "execution_count": 10,
     "metadata": {},
     "output_type": "execute_result"
    }
   ],
   "source": [
    "Image('path to second joint rotation')"
   ]
  },
  {
   "cell_type": "markdown",
   "metadata": {},
   "source": [
    "Next we will calculate the rotational matrix of the first joint relative to the revolute base joint."
   ]
  },
  {
   "cell_type": "code",
   "execution_count": 11,
   "metadata": {
    "collapsed": false
   },
   "outputs": [],
   "source": [
    "Joint_One_Frame.orient(Base_Frame,'Axis',(theta1, Base_Frame.z))"
   ]
  },
  {
   "cell_type": "code",
   "execution_count": 12,
   "metadata": {
    "collapsed": false
   },
   "outputs": [
    {
     "data": {
      "text/latex": [
       "$$\\left[\\begin{matrix}1 & 0 & 0\\\\0 & \\operatorname{cos}\\left(\\theta_{1}\\right) & \\operatorname{sin}\\left(\\theta_{1}\\right)\\\\0 & - \\operatorname{sin}\\left(\\theta_{1}\\right) & \\operatorname{cos}\\left(\\theta_{1}\\right)\\end{matrix}\\right]$$"
      ],
      "text/plain": [
       "⎡1     0         0   ⎤\n",
       "⎢                    ⎥\n",
       "⎢0  cos(θ₁)   sin(θ₁)⎥\n",
       "⎢                    ⎥\n",
       "⎣0  -sin(θ₁)  cos(θ₁)⎦"
      ]
     },
     "execution_count": 12,
     "metadata": {},
     "output_type": "execute_result"
    }
   ],
   "source": [
    "Joint_One_Frame.dcm(Base_Frame)"
   ]
  },
  {
   "cell_type": "code",
   "execution_count": 13,
   "metadata": {
    "collapsed": true
   },
   "outputs": [],
   "source": [
    "Joint_Two_Frame.orient(Joint_One_Frame, 'Axis',(theta2, Joint_One_Frame.x))"
   ]
  },
  {
   "cell_type": "code",
   "execution_count": 14,
   "metadata": {
    "collapsed": false
   },
   "outputs": [
    {
     "data": {
      "text/latex": [
       "$$\\left[\\begin{matrix}1 & 0 & 0\\\\0 & - \\operatorname{sin}\\left(\\theta_{1}\\right) \\operatorname{sin}\\left(\\theta_{2}\\right) + \\operatorname{cos}\\left(\\theta_{1}\\right) \\operatorname{cos}\\left(\\theta_{2}\\right) & \\operatorname{sin}\\left(\\theta_{1}\\right) \\operatorname{cos}\\left(\\theta_{2}\\right) + \\operatorname{sin}\\left(\\theta_{2}\\right) \\operatorname{cos}\\left(\\theta_{1}\\right)\\\\0 & - \\operatorname{sin}\\left(\\theta_{1}\\right) \\operatorname{cos}\\left(\\theta_{2}\\right) - \\operatorname{sin}\\left(\\theta_{2}\\right) \\operatorname{cos}\\left(\\theta_{1}\\right) & - \\operatorname{sin}\\left(\\theta_{1}\\right) \\operatorname{sin}\\left(\\theta_{2}\\right) + \\operatorname{cos}\\left(\\theta_{1}\\right) \\operatorname{cos}\\left(\\theta_{2}\\right)\\end{matrix}\\right]$$"
      ],
      "text/plain": [
       "⎡1                  0                                   0                 ⎤\n",
       "⎢                                                                         ⎥\n",
       "⎢0  -sin(θ₁)⋅sin(θ₂) + cos(θ₁)⋅cos(θ₂)  sin(θ₁)⋅cos(θ₂) + sin(θ₂)⋅cos(θ₁) ⎥\n",
       "⎢                                                                         ⎥\n",
       "⎣0  -sin(θ₁)⋅cos(θ₂) - sin(θ₂)⋅cos(θ₁)  -sin(θ₁)⋅sin(θ₂) + cos(θ₁)⋅cos(θ₂)⎦"
      ]
     },
     "execution_count": 14,
     "metadata": {},
     "output_type": "execute_result"
    }
   ],
   "source": [
    "Joint_Two_Frame.dcm(Base_Frame)"
   ]
  },
  {
   "cell_type": "markdown",
   "metadata": {},
   "source": [
    "As you can see, as we are starting to move away from the base joint, the transformation matricies become quite complicated. To simplyfy this sympy has a `simplify' method that we can use"
   ]
  },
  {
   "cell_type": "code",
   "execution_count": 15,
   "metadata": {
    "collapsed": false
   },
   "outputs": [
    {
     "data": {
      "text/latex": [
       "$$\\left[\\begin{matrix}1 & 0 & 0\\\\0 & \\operatorname{cos}\\left(\\theta_{1} + \\theta_{2}\\right) & \\operatorname{sin}\\left(\\theta_{1} + \\theta_{2}\\right)\\\\0 & - \\operatorname{sin}\\left(\\theta_{1} + \\theta_{2}\\right) & \\operatorname{cos}\\left(\\theta_{1} + \\theta_{2}\\right)\\end{matrix}\\right]$$"
      ],
      "text/plain": [
       "⎡1        0             0      ⎤\n",
       "⎢                              ⎥\n",
       "⎢0  cos(θ₁ + θ₂)   sin(θ₁ + θ₂)⎥\n",
       "⎢                              ⎥\n",
       "⎣0  -sin(θ₁ + θ₂)  cos(θ₁ + θ₂)⎦"
      ]
     },
     "execution_count": 15,
     "metadata": {},
     "output_type": "execute_result"
    }
   ],
   "source": [
    "simplify(Joint_Two_Frame.dcm(Base_Frame))"
   ]
  },
  {
   "cell_type": "code",
   "execution_count": 16,
   "metadata": {
    "collapsed": false
   },
   "outputs": [],
   "source": [
    "Joint_Three_Frame.orient(Joint_Two_Frame, 'Axis',(theta3, Joint_Two_Frame.x))"
   ]
  },
  {
   "cell_type": "code",
   "execution_count": 25,
   "metadata": {
    "collapsed": false
   },
   "outputs": [
    {
     "data": {
      "text/latex": [
       "$$\\left[\\begin{matrix}\\operatorname{cos}\\left(\\theta_{b}\\right) & \\operatorname{sin}\\left(\\theta_{b}\\right) & 0\\\\- \\operatorname{sin}\\left(\\theta_{b}\\right) \\operatorname{cos}\\left(\\theta_{1} + \\theta_{2} + \\theta_{3}\\right) & \\operatorname{cos}\\left(\\theta_{1} + \\theta_{2} + \\theta_{3}\\right) \\operatorname{cos}\\left(\\theta_{b}\\right) & \\operatorname{sin}\\left(\\theta_{1} + \\theta_{2} + \\theta_{3}\\right)\\\\\\operatorname{sin}\\left(\\theta_{1} + \\theta_{2} + \\theta_{3}\\right) \\operatorname{sin}\\left(\\theta_{b}\\right) & - \\operatorname{sin}\\left(\\theta_{1} + \\theta_{2} + \\theta_{3}\\right) \\operatorname{cos}\\left(\\theta_{b}\\right) & \\operatorname{cos}\\left(\\theta_{1} + \\theta_{2} + \\theta_{3}\\right)\\end{matrix}\\right]$$"
      ],
      "text/plain": [
       "⎡         cos(θ_b)                     sin(θ_b)                    0        ⎤\n",
       "⎢                                                                           ⎥\n",
       "⎢-sin(θ_b)⋅cos(θ₁ + θ₂ + θ₃)  cos(θ₁ + θ₂ + θ₃)⋅cos(θ_b)   sin(θ₁ + θ₂ + θ₃)⎥\n",
       "⎢                                                                           ⎥\n",
       "⎣sin(θ₁ + θ₂ + θ₃)⋅sin(θ_b)   -sin(θ₁ + θ₂ + θ₃)⋅cos(θ_b)  cos(θ₁ + θ₂ + θ₃)⎦"
      ]
     },
     "execution_count": 25,
     "metadata": {},
     "output_type": "execute_result"
    }
   ],
   "source": [
    "simplify(Joint_Three_Frame.dcm(Global_Frame))"
   ]
  },
  {
   "cell_type": "code",
   "execution_count": 18,
   "metadata": {
    "collapsed": true
   },
   "outputs": [],
   "source": [
    "Joint_Four_Frame.orient(Joint_Three_Frame, 'Axis',(theta4, Joint_Three_Frame.x))"
   ]
  },
  {
   "cell_type": "code",
   "execution_count": 27,
   "metadata": {
    "collapsed": false
   },
   "outputs": [
    {
     "data": {
      "text/latex": [
       "$$\\left[\\begin{matrix}\\operatorname{cos}\\left(\\theta_{b}\\right) & \\operatorname{sin}\\left(\\theta_{b}\\right) & 0\\\\- \\operatorname{sin}\\left(\\theta_{b}\\right) \\operatorname{cos}\\left(\\theta_{1} + \\theta_{2} + \\theta_{3} + \\theta_{4}\\right) & \\operatorname{cos}\\left(\\theta_{1} + \\theta_{2} + \\theta_{3} + \\theta_{4}\\right) \\operatorname{cos}\\left(\\theta_{b}\\right) & \\operatorname{sin}\\left(\\theta_{1} + \\theta_{2} + \\theta_{3} + \\theta_{4}\\right)\\\\\\operatorname{sin}\\left(\\theta_{1} + \\theta_{2} + \\theta_{3} + \\theta_{4}\\right) \\operatorname{sin}\\left(\\theta_{b}\\right) & - \\operatorname{sin}\\left(\\theta_{1} + \\theta_{2} + \\theta_{3} + \\theta_{4}\\right) \\operatorname{cos}\\left(\\theta_{b}\\right) & \\operatorname{cos}\\left(\\theta_{1} + \\theta_{2} + \\theta_{3} + \\theta_{4}\\right)\\end{matrix}\\right]$$"
      ],
      "text/plain": [
       "⎡            cos(θ_b)                          sin(θ_b)                       \n",
       "⎢                                                                             \n",
       "⎢-sin(θ_b)⋅cos(θ₁ + θ₂ + θ₃ + θ₄)  cos(θ₁ + θ₂ + θ₃ + θ₄)⋅cos(θ_b)   sin(θ₁ + \n",
       "⎢                                                                             \n",
       "⎣sin(θ₁ + θ₂ + θ₃ + θ₄)⋅sin(θ_b)   -sin(θ₁ + θ₂ + θ₃ + θ₄)⋅cos(θ_b)  cos(θ₁ + \n",
       "\n",
       " 0           ⎤\n",
       "             ⎥\n",
       "θ₂ + θ₃ + θ₄)⎥\n",
       "             ⎥\n",
       "θ₂ + θ₃ + θ₄)⎦"
      ]
     },
     "execution_count": 27,
     "metadata": {},
     "output_type": "execute_result"
    }
   ],
   "source": [
    "simplify(Joint_Four_Frame.dcm(Global_Frame))"
   ]
  },
  {
   "cell_type": "code",
   "execution_count": 20,
   "metadata": {
    "collapsed": false
   },
   "outputs": [],
   "source": [
    "Wrist_Joint_Frame.orient(Joint_Four_Frame, 'Axis', (theta5, Joint_Four_Frame.x))"
   ]
  },
  {
   "cell_type": "code",
   "execution_count": 28,
   "metadata": {
    "collapsed": false
   },
   "outputs": [
    {
     "data": {
      "text/latex": [
       "$$\\left[\\begin{matrix}\\operatorname{cos}\\left(\\theta_{b}\\right) & \\operatorname{sin}\\left(\\theta_{b}\\right) & 0\\\\- \\operatorname{sin}\\left(\\theta_{b}\\right) \\operatorname{cos}\\left(\\theta_{1} + \\theta_{2} + \\theta_{3} + \\theta_{4} + \\theta_{5}\\right) & \\operatorname{cos}\\left(\\theta_{1} + \\theta_{2} + \\theta_{3} + \\theta_{4} + \\theta_{5}\\right) \\operatorname{cos}\\left(\\theta_{b}\\right) & \\operatorname{sin}\\left(\\theta_{1} + \\theta_{2} + \\theta_{3} + \\theta_{4} + \\theta_{5}\\right)\\\\\\operatorname{sin}\\left(\\theta_{1} + \\theta_{2} + \\theta_{3} + \\theta_{4} + \\theta_{5}\\right) \\operatorname{sin}\\left(\\theta_{b}\\right) & - \\operatorname{sin}\\left(\\theta_{1} + \\theta_{2} + \\theta_{3} + \\theta_{4} + \\theta_{5}\\right) \\operatorname{cos}\\left(\\theta_{b}\\right) & \\operatorname{cos}\\left(\\theta_{1} + \\theta_{2} + \\theta_{3} + \\theta_{4} + \\theta_{5}\\right)\\end{matrix}\\right]$$"
      ],
      "text/plain": [
       "⎡              cos(θ_b)                               sin(θ_b)                \n",
       "⎢                                                                             \n",
       "⎢-sin(θ_b)⋅cos(θ₁ + θ₂ + θ₃ + θ₄ + θ₅)  cos(θ₁ + θ₂ + θ₃ + θ₄ + θ₅)⋅cos(θ_b)  \n",
       "⎢                                                                             \n",
       "⎣sin(θ₁ + θ₂ + θ₃ + θ₄ + θ₅)⋅sin(θ_b)   -sin(θ₁ + θ₂ + θ₃ + θ₄ + θ₅)⋅cos(θ_b) \n",
       "\n",
       "              0             ⎤\n",
       "                            ⎥\n",
       " sin(θ₁ + θ₂ + θ₃ + θ₄ + θ₅)⎥\n",
       "                            ⎥\n",
       " cos(θ₁ + θ₂ + θ₃ + θ₄ + θ₅)⎦"
      ]
     },
     "execution_count": 28,
     "metadata": {},
     "output_type": "execute_result"
    }
   ],
   "source": [
    "simplify(Wrist_Joint_Frame.dcm(Global_Frame))"
   ]
  },
  {
   "cell_type": "code",
   "execution_count": 22,
   "metadata": {
    "collapsed": false
   },
   "outputs": [
    {
     "data": {
      "text/latex": [
       "$$\\left[\\begin{matrix}\\operatorname{cos}\\left(\\theta_{b}\\right) & \\operatorname{sin}\\left(\\theta_{b}\\right) & 0\\\\- \\operatorname{sin}\\left(\\theta_{b}\\right) \\operatorname{cos}\\left(\\theta_{1} + \\theta_{2} + \\theta_{3} + \\theta_{4} + \\theta_{5}\\right) & \\operatorname{cos}\\left(\\theta_{1} + \\theta_{2} + \\theta_{3} + \\theta_{4} + \\theta_{5}\\right) \\operatorname{cos}\\left(\\theta_{b}\\right) & \\operatorname{sin}\\left(\\theta_{1} + \\theta_{2} + \\theta_{3} + \\theta_{4} + \\theta_{5}\\right)\\\\\\operatorname{sin}\\left(\\theta_{1} + \\theta_{2} + \\theta_{3} + \\theta_{4} + \\theta_{5}\\right) \\operatorname{sin}\\left(\\theta_{b}\\right) & - \\operatorname{sin}\\left(\\theta_{1} + \\theta_{2} + \\theta_{3} + \\theta_{4} + \\theta_{5}\\right) \\operatorname{cos}\\left(\\theta_{b}\\right) & \\operatorname{cos}\\left(\\theta_{1} + \\theta_{2} + \\theta_{3} + \\theta_{4} + \\theta_{5}\\right)\\end{matrix}\\right]$$"
      ],
      "text/plain": [
       "⎡              cos(θ_b)                               sin(θ_b)                \n",
       "⎢                                                                             \n",
       "⎢-sin(θ_b)⋅cos(θ₁ + θ₂ + θ₃ + θ₄ + θ₅)  cos(θ₁ + θ₂ + θ₃ + θ₄ + θ₅)⋅cos(θ_b)  \n",
       "⎢                                                                             \n",
       "⎣sin(θ₁ + θ₂ + θ₃ + θ₄ + θ₅)⋅sin(θ_b)   -sin(θ₁ + θ₂ + θ₃ + θ₄ + θ₅)⋅cos(θ_b) \n",
       "\n",
       "              0             ⎤\n",
       "                            ⎥\n",
       " sin(θ₁ + θ₂ + θ₃ + θ₄ + θ₅)⎥\n",
       "                            ⎥\n",
       " cos(θ₁ + θ₂ + θ₃ + θ₄ + θ₅)⎦"
      ]
     },
     "execution_count": 22,
     "metadata": {},
     "output_type": "execute_result"
    }
   ],
   "source": [
    "simplify(Wrist_Joint_Frame.dcm(Global_Frame))"
   ]
  },
  {
   "cell_type": "code",
   "execution_count": 23,
   "metadata": {
    "collapsed": true
   },
   "outputs": [],
   "source": [
    "Gripper_Frame.orient(Wrist_Joint_Frame, 'Axis', (theta5, Wrist_Joint_Frame.y))"
   ]
  },
  {
   "cell_type": "code",
   "execution_count": 29,
   "metadata": {
    "collapsed": false
   },
   "outputs": [
    {
     "data": {
      "text/latex": [
       "$$\\left[\\begin{matrix}- \\operatorname{sin}\\left(\\theta_{1} + \\theta_{2} + \\theta_{3} + \\theta_{4} + \\theta_{5}\\right) \\operatorname{sin}\\left(\\theta_{5}\\right) \\operatorname{sin}\\left(\\theta_{b}\\right) + \\operatorname{cos}\\left(\\theta_{5}\\right) \\operatorname{cos}\\left(\\theta_{b}\\right) & \\operatorname{sin}\\left(\\theta_{1} + \\theta_{2} + \\theta_{3} + \\theta_{4} + \\theta_{5}\\right) \\operatorname{sin}\\left(\\theta_{5}\\right) \\operatorname{cos}\\left(\\theta_{b}\\right) + \\operatorname{sin}\\left(\\theta_{b}\\right) \\operatorname{cos}\\left(\\theta_{5}\\right) & - \\operatorname{sin}\\left(\\theta_{5}\\right) \\operatorname{cos}\\left(\\theta_{1} + \\theta_{2} + \\theta_{3} + \\theta_{4} + \\theta_{5}\\right)\\\\- \\operatorname{sin}\\left(\\theta_{b}\\right) \\operatorname{cos}\\left(\\theta_{1} + \\theta_{2} + \\theta_{3} + \\theta_{4} + \\theta_{5}\\right) & \\operatorname{cos}\\left(\\theta_{1} + \\theta_{2} + \\theta_{3} + \\theta_{4} + \\theta_{5}\\right) \\operatorname{cos}\\left(\\theta_{b}\\right) & \\operatorname{sin}\\left(\\theta_{1} + \\theta_{2} + \\theta_{3} + \\theta_{4} + \\theta_{5}\\right)\\\\\\operatorname{sin}\\left(\\theta_{1} + \\theta_{2} + \\theta_{3} + \\theta_{4} + \\theta_{5}\\right) \\operatorname{sin}\\left(\\theta_{b}\\right) \\operatorname{cos}\\left(\\theta_{5}\\right) + \\operatorname{sin}\\left(\\theta_{5}\\right) \\operatorname{cos}\\left(\\theta_{b}\\right) & - \\operatorname{sin}\\left(\\theta_{1} + \\theta_{2} + \\theta_{3} + \\theta_{4} + \\theta_{5}\\right) \\operatorname{cos}\\left(\\theta_{5}\\right) \\operatorname{cos}\\left(\\theta_{b}\\right) + \\operatorname{sin}\\left(\\theta_{5}\\right) \\operatorname{sin}\\left(\\theta_{b}\\right) & \\operatorname{cos}\\left(\\theta_{1} + \\theta_{2} + \\theta_{3} + \\theta_{4} + \\theta_{5}\\right) \\operatorname{cos}\\left(\\theta_{5}\\right)\\end{matrix}\\right]$$"
      ],
      "text/plain": [
       "⎡-sin(θ₁ + θ₂ + θ₃ + θ₄ + θ₅)⋅sin(θ₅)⋅sin(θ_b) + cos(θ₅)⋅cos(θ_b)  sin(θ₁ + θ₂\n",
       "⎢                                                                             \n",
       "⎢             -sin(θ_b)⋅cos(θ₁ + θ₂ + θ₃ + θ₄ + θ₅)                           \n",
       "⎢                                                                             \n",
       "⎣sin(θ₁ + θ₂ + θ₃ + θ₄ + θ₅)⋅sin(θ_b)⋅cos(θ₅) + sin(θ₅)⋅cos(θ_b)   -sin(θ₁ + θ\n",
       "\n",
       " + θ₃ + θ₄ + θ₅)⋅sin(θ₅)⋅cos(θ_b) + sin(θ_b)⋅cos(θ₅)   -sin(θ₅)⋅cos(θ₁ + θ₂ + \n",
       "                                                                              \n",
       "   cos(θ₁ + θ₂ + θ₃ + θ₄ + θ₅)⋅cos(θ_b)                    sin(θ₁ + θ₂ + θ₃ + \n",
       "                                                                              \n",
       "₂ + θ₃ + θ₄ + θ₅)⋅cos(θ₅)⋅cos(θ_b) + sin(θ₅)⋅sin(θ_b)  cos(θ₁ + θ₂ + θ₃ + θ₄ +\n",
       "\n",
       "θ₃ + θ₄ + θ₅)⎤\n",
       "             ⎥\n",
       "θ₄ + θ₅)     ⎥\n",
       "             ⎥\n",
       " θ₅)⋅cos(θ₅) ⎦"
      ]
     },
     "execution_count": 29,
     "metadata": {},
     "output_type": "execute_result"
    }
   ],
   "source": [
    "simplify(Gripper_Frame.dcm(Global_Frame))"
   ]
  },
  {
   "cell_type": "code",
   "execution_count": null,
   "metadata": {
    "collapsed": true
   },
   "outputs": [],
   "source": []
  }
 ],
 "metadata": {
  "kernelspec": {
   "display_name": "Python 3",
   "language": "python",
   "name": "python3"
  },
  "language_info": {
   "codemirror_mode": {
    "name": "ipython",
    "version": 3
   },
   "file_extension": ".py",
   "mimetype": "text/x-python",
   "name": "python",
   "nbconvert_exporter": "python",
   "pygments_lexer": "ipython3",
   "version": "3.4.3"
  }
 },
 "nbformat": 4,
 "nbformat_minor": 0
}
